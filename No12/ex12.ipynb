{
 "cells": [
  {
   "cell_type": "markdown",
   "metadata": {},
   "source": [
    "## 森田研究室 33B21009 羽田充宏"
   ]
  },
  {
   "cell_type": "markdown",
   "metadata": {},
   "source": [
    "## 課題13-1 hmmlearnを用いてdata.csvからHMMを学習する"
   ]
  },
  {
   "cell_type": "code",
   "execution_count": 1,
   "metadata": {},
   "outputs": [],
   "source": [
    "import numpy as np\n",
    "from hmmlearn import hmm\n",
    "import matplotlib.pyplot as plt\n",
    "from graphviz import Digraph\n",
    "np.random.seed(42)\n",
    "rn = 42 # random_state"
   ]
  },
  {
   "cell_type": "code",
   "execution_count": 2,
   "metadata": {},
   "outputs": [],
   "source": [
    "X = np.loadtxt('data.csv',delimiter = ',')"
   ]
  },
  {
   "cell_type": "code",
   "execution_count": 3,
   "metadata": {},
   "outputs": [
    {
     "data": {
      "text/plain": [
       "(1000, 2)"
      ]
     },
     "execution_count": 3,
     "metadata": {},
     "output_type": "execute_result"
    }
   ],
   "source": [
    "X.shape"
   ]
  },
  {
   "cell_type": "code",
   "execution_count": 4,
   "metadata": {},
   "outputs": [
    {
     "data": {
      "text/plain": [
       "array([[ 2.59096539,  0.13559196],\n",
       "       [ 1.72217017,  0.5289679 ],\n",
       "       [ 1.84197462, -0.21819851],\n",
       "       [ 4.37844612, 10.34393468],\n",
       "       [ 7.59912621,  0.18687707],\n",
       "       [ 5.75057235,  8.41670982],\n",
       "       [ 7.67935418, -1.4621948 ],\n",
       "       [-0.67642954,  8.03447793],\n",
       "       [10.00703962,  7.58858762],\n",
       "       [ 1.64141978, -0.57665958]])"
      ]
     },
     "execution_count": 4,
     "metadata": {},
     "output_type": "execute_result"
    }
   ],
   "source": [
    "X[:10]"
   ]
  },
  {
   "cell_type": "markdown",
   "metadata": {},
   "source": [
    "上のデータは二次元ガウス分布に従って出力されたものである．  \n",
    "また各ステップ(合計1000)でサンプルデータの従う正規分布の平均値$\\mu$は異なっており，潜在変数となっている．  \n",
    "学習では観測データから潜在変数の数と値，潜在変数間の遷移確率およびグラフ構造を推定することが目的となっている．  \n",
    "前提として遷移確率は$p \\in \\{0, 0.1, ..., 1.0\\}$であり，ガウス分布の平均は$\\mu \\in \\{0, 1, ..., 10\\}$であり，分散は一定の値となっている．"
   ]
  },
  {
   "cell_type": "markdown",
   "metadata": {},
   "source": [
    "注) 「ガウス分布の分散は一定に設定した」 -> 正規分布は対角成分は一定値$\\sigma^2 \\in \\mathbb{R}$で非対角成分0という認識です．"
   ]
  },
  {
   "cell_type": "markdown",
   "metadata": {},
   "source": [
    "以下では学習コードについて説明を行う．  \n",
    "今回は二次元ガウス分布について扱うのでGaussianHMMクラスを利用する．  \n",
    "一旦，潜在変数のノード数は3であるという過程のもとで実験を行う"
   ]
  },
  {
   "cell_type": "code",
   "execution_count": 5,
   "metadata": {},
   "outputs": [],
   "source": [
    "model = hmm.GaussianHMM(n_components=3, covariance_type=\"spherical\", n_iter = 100, random_state=rn)"
   ]
  },
  {
   "cell_type": "code",
   "execution_count": 6,
   "metadata": {},
   "outputs": [
    {
     "data": {
      "text/plain": [
       "GaussianHMM(covariance_type='spherical', n_components=3, n_iter=100,\n",
       "            random_state=42)"
      ]
     },
     "execution_count": 6,
     "metadata": {},
     "output_type": "execute_result"
    }
   ],
   "source": [
    "model.fit(X)"
   ]
  },
  {
   "cell_type": "markdown",
   "metadata": {},
   "source": [
    "学習の結果得られた結果は以下のようになる．  \n",
    "- 状態遷移行列"
   ]
  },
  {
   "cell_type": "code",
   "execution_count": 7,
   "metadata": {},
   "outputs": [
    {
     "data": {
      "text/plain": [
       "array([[0.42470855, 0.39036077, 0.18493068],\n",
       "       [0.54055348, 0.31939533, 0.14005118],\n",
       "       [0.40988581, 0.23015116, 0.35996303]])"
      ]
     },
     "execution_count": 7,
     "metadata": {},
     "output_type": "execute_result"
    }
   ],
   "source": [
    "model.transmat_"
   ]
  },
  {
   "cell_type": "markdown",
   "metadata": {},
   "source": [
    "- 潜在変数(初期値確率)"
   ]
  },
  {
   "cell_type": "code",
   "execution_count": 8,
   "metadata": {},
   "outputs": [
    {
     "data": {
      "text/plain": [
       "array([1.00000000e+00, 2.00293234e-20, 2.45085491e-71])"
      ]
     },
     "execution_count": 8,
     "metadata": {},
     "output_type": "execute_result"
    }
   ],
   "source": [
    "model.startprob_"
   ]
  },
  {
   "cell_type": "markdown",
   "metadata": {},
   "source": [
    "- 潜在変数(平均値) $\\mu$"
   ]
  },
  {
   "cell_type": "code",
   "execution_count": 9,
   "metadata": {},
   "outputs": [
    {
     "data": {
      "text/plain": [
       "array([[5.63163448, 0.07154086],\n",
       "       [7.3680374 , 8.49197651],\n",
       "       [0.0579629 , 7.02950248]])"
      ]
     },
     "execution_count": 9,
     "metadata": {},
     "output_type": "execute_result"
    }
   ],
   "source": [
    "model.means_"
   ]
  },
  {
   "cell_type": "markdown",
   "metadata": {},
   "source": [
    "- 潜在変数(共分散行列) $\\Sigma$ "
   ]
  },
  {
   "cell_type": "code",
   "execution_count": 10,
   "metadata": {},
   "outputs": [
    {
     "data": {
      "text/plain": [
       "array([[[[5.12454504, 0.        ],\n",
       "         [0.        , 5.12454504]]],\n",
       "\n",
       "\n",
       "       [[[5.11709333, 0.        ],\n",
       "         [0.        , 5.11709333]]],\n",
       "\n",
       "\n",
       "       [[[0.53984036, 0.        ],\n",
       "         [0.        , 0.53984036]]]])"
      ]
     },
     "execution_count": 10,
     "metadata": {},
     "output_type": "execute_result"
    }
   ],
   "source": [
    "model.covars_"
   ]
  },
  {
   "cell_type": "markdown",
   "metadata": {},
   "source": [
    "また，学習データが得られた際の潜在変数の推移の予測値は以下のようになる"
   ]
  },
  {
   "cell_type": "code",
   "execution_count": 11,
   "metadata": {},
   "outputs": [
    {
     "data": {
      "text/plain": [
       "array([0, 0, 0, 1, 0, 1, 0, 2, 1, 0], dtype=int32)"
      ]
     },
     "execution_count": 11,
     "metadata": {},
     "output_type": "execute_result"
    }
   ],
   "source": [
    "model.predict(X)[:10] # 本当は1000次元データだが最初の10個を表示"
   ]
  },
  {
   "cell_type": "markdown",
   "metadata": {},
   "source": [
    "また今回得られたパラメータに対してのモデルの当てはまりの良さを表す尤度は以下のような値となる(厳密には対数尤度 -> 値が大きいほど当てはまりが良い)"
   ]
  },
  {
   "cell_type": "code",
   "execution_count": 12,
   "metadata": {},
   "outputs": [
    {
     "data": {
      "text/plain": [
       "-5010.36972777804"
      ]
     },
     "execution_count": 12,
     "metadata": {},
     "output_type": "execute_result"
    }
   ],
   "source": [
    "model.score(X)"
   ]
  },
  {
   "cell_type": "markdown",
   "metadata": {},
   "source": [
    "上の尤度の値がどれくらい良いかは絶対値としての評価はできないがこの値をベースラインとして以下ではさらに改良した推定を行っていく"
   ]
  },
  {
   "cell_type": "markdown",
   "metadata": {},
   "source": [
    "## 課題13-2 作成したプログラムを用いてdata.csvを生成した元のHMMの隠れ状態数，グラフ構造，遷移確率を推定"
   ]
  },
  {
   "cell_type": "markdown",
   "metadata": {},
   "source": [
    "上での推定方法にはいくつかの問題点が存在する．  \n",
    "まず，今回は共分散行列の非対角成分が0，さらに全ての潜在変数に対して同じ値を共有する制約を課したいが，ライブラリの都合上そのような処理は実現できない．  \n",
    "しかしながら上での結果を見るとどのノードも大体5.1付近に値が集中しているので得られた結果の平均値を予測値として利用しても問題ないと考えられる．  \n",
    "また，fitメソッドでの学習においては潜在変数の数はハイパーパラメータであるのでこちら側で調整する必要がある．  \n",
    "ここで潜在変数の数を多くすることはモデルの自由度を上げることに相当するので，潜在変数の数の増加に伴って対数尤度の値は改善していくことが期待できる．  \n",
    "実際したのグラフのように潜在変数の数を増やせば増やすほど目的関数(対数尤度)の値は大きくなり，潜在変数の数が5を超えたあたりで飽和していることが見て取れる．  "
   ]
  },
  {
   "cell_type": "code",
   "execution_count": 13,
   "metadata": {},
   "outputs": [],
   "source": [
    "res = [hmm.GaussianHMM(n_components=i, covariance_type=\"spherical\", n_iter = 100, random_state=rn).fit(X).score(X) for i in range(1,11)]"
   ]
  },
  {
   "cell_type": "code",
   "execution_count": 14,
   "metadata": {},
   "outputs": [
    {
     "data": {
      "text/plain": [
       "Text(0, 0.5, 'log likelihood')"
      ]
     },
     "execution_count": 14,
     "metadata": {},
     "output_type": "execute_result"
    },
    {
     "data": {
      "image/png": "[encoded data removed]",
      "text/plain": [
       "<Figure size 432x288 with 1 Axes>"
      ]
     },
     "metadata": {
      "needs_background": "light"
     },
     "output_type": "display_data"
    }
   ],
   "source": [
    "plt.plot(range(1,11), res)\n",
    "plt.xlabel(\"number of latent variable\")\n",
    "plt.ylabel(\"log likelihood\")"
   ]
  },
  {
   "cell_type": "markdown",
   "metadata": {},
   "source": [
    "現実的にはAICなどの情報量基準を考慮して最適化したりする必要があるが，今回は上の結果がグリッドサーチした結果だと思って潜在変数の数は5であると決め打ちすることとする．  \n",
    "最後の問題としては今回は平均値$\\mu$と遷移確率$p$が離散値をとる制約が課されているがhmmlearnの学習では離散変数の制約を入れることができない．  \n",
    "そこで平均値と遷移確率をハイパーパラメータだと思ってoptunaやグリッドサーチで最適化するなどの手法が考えられるが今回はhmmで得られた値を丸めることで制約を満たす解を得ることとする．  \n",
    "他に潜在変数の数が1や2ならば全探索をするなどの手法が考えれるが，今回は潜在変数の数を5としたので厳しい（潜在変数の数に対して計算量が指数時間であるため）"
   ]
  },
  {
   "cell_type": "markdown",
   "metadata": {},
   "source": [
    "以上を踏まえて以下では得られたデータの生成モデルを推定する"
   ]
  },
  {
   "cell_type": "code",
   "execution_count": 15,
   "metadata": {},
   "outputs": [],
   "source": [
    "model = hmm.GaussianHMM(n_components=5, covariance_type=\"spherical\", n_iter = 100, random_state=rn)"
   ]
  },
  {
   "cell_type": "code",
   "execution_count": 16,
   "metadata": {},
   "outputs": [
    {
     "data": {
      "text/plain": [
       "GaussianHMM(covariance_type='spherical', n_components=5, n_iter=100,\n",
       "            random_state=42)"
      ]
     },
     "execution_count": 16,
     "metadata": {},
     "output_type": "execute_result"
    }
   ],
   "source": [
    "model.fit(X)"
   ]
  },
  {
   "cell_type": "code",
   "execution_count": 17,
   "metadata": {},
   "outputs": [
    {
     "data": {
      "text/plain": [
       "-3266.6063090134094"
      ]
     },
     "execution_count": 17,
     "metadata": {},
     "output_type": "execute_result"
    }
   ],
   "source": [
    "model.score(X)"
   ]
  },
  {
   "cell_type": "markdown",
   "metadata": {},
   "source": [
    "以上より問題の制約を満たした推定値は以下のようになる"
   ]
  },
  {
   "cell_type": "markdown",
   "metadata": {},
   "source": [
    "- 状態遷移行列"
   ]
  },
  {
   "cell_type": "code",
   "execution_count": 18,
   "metadata": {},
   "outputs": [
    {
     "name": "stdout",
     "output_type": "stream",
     "text": [
      "[[0.4 0.3 0.3 0.  0. ]\n",
      " [0.6 0.1 0.  0.3 0. ]\n",
      " [0.5 0.  0.3 0.  0.2]\n",
      " [0.  0.3 0.  0.6 0.1]\n",
      " [0.  0.  0.2 0.2 0.6]]\n"
     ]
    }
   ],
   "source": [
    "transmat = (model.transmat_ // 0.1) * 0.1\n",
    "for c in transmat:\n",
    "    c[np.argmax(c)] += 1 - c.sum()\n",
    "print(transmat)"
   ]
  },
  {
   "cell_type": "markdown",
   "metadata": {},
   "source": [
    "- 初期確率"
   ]
  },
  {
   "cell_type": "code",
   "execution_count": 19,
   "metadata": {},
   "outputs": [
    {
     "name": "stdout",
     "output_type": "stream",
     "text": [
      "[7.04865002e-082 5.10990511e-123 4.93304098e-100 1.00000000e+000\n",
      " 9.34766714e-136]\n"
     ]
    }
   ],
   "source": [
    "startprob = model.startprob_\n",
    "print(startprob)"
   ]
  },
  {
   "cell_type": "markdown",
   "metadata": {},
   "source": [
    "- 平均値"
   ]
  },
  {
   "cell_type": "code",
   "execution_count": 20,
   "metadata": {},
   "outputs": [
    {
     "name": "stdout",
     "output_type": "stream",
     "text": [
      "[[ 8.  0.]\n",
      " [ 4.  9.]\n",
      " [ 0.  7.]\n",
      " [ 1.  0.]\n",
      " [10.  6.]]\n"
     ]
    }
   ],
   "source": [
    "means = model.means_ // 1\n",
    "print(means)"
   ]
  },
  {
   "cell_type": "markdown",
   "metadata": {},
   "source": [
    "- 共分散行列"
   ]
  },
  {
   "cell_type": "code",
   "execution_count": 21,
   "metadata": {},
   "outputs": [
    {
     "name": "stdout",
     "output_type": "stream",
     "text": [
      "[[[0.53809358 0.        ]\n",
      "  [0.         0.53809358]]\n",
      "\n",
      " [[0.53809358 0.        ]\n",
      "  [0.         0.53809358]]\n",
      "\n",
      " [[0.53809358 0.        ]\n",
      "  [0.         0.53809358]]\n",
      "\n",
      " [[0.53809358 0.        ]\n",
      "  [0.         0.53809358]]\n",
      "\n",
      " [[0.53809358 0.        ]\n",
      "  [0.         0.53809358]]]\n"
     ]
    }
   ],
   "source": [
    "m = np.mean([x[0][0][0] for x in model.covars_])\n",
    "covars = (np.zeros_like(model.covars_) + np.diag([m,m])).reshape(5,2,2)\n",
    "print(covars)"
   ]
  },
  {
   "cell_type": "markdown",
   "metadata": {},
   "source": [
    "以上が推定値となる．  \n",
    "また，この推定値のもとで対数尤度は以下のようになる"
   ]
  },
  {
   "cell_type": "code",
   "execution_count": 22,
   "metadata": {},
   "outputs": [
    {
     "data": {
      "text/plain": [
       "-3864.145858910657"
      ]
     },
     "execution_count": 22,
     "metadata": {},
     "output_type": "execute_result"
    }
   ],
   "source": [
    "model = hmm.GaussianHMM(n_components=5, covariance_type=\"full\", n_iter = 100, random_state=rn)\n",
    "model.startprob_ = startprob\n",
    "model.transmat_ = transmat\n",
    "model.means_ = means\n",
    "model.covars_ = covars + 1e-8\n",
    "model.score(X)"
   ]
  },
  {
   "cell_type": "markdown",
   "metadata": {},
   "source": [
    "上の対数尤度の値は遷移行列，平均値をそれぞれの丸めた分，元の対数尤度よりも値が悪化しているが上で見たベースラインのモデルと比較するとだいぶ改善されていることがわかる．  "
   ]
  },
  {
   "cell_type": "markdown",
   "metadata": {},
   "source": [
    "以下は遷移図を表す"
   ]
  },
  {
   "cell_type": "code",
   "execution_count": 23,
   "metadata": {},
   "outputs": [],
   "source": [
    "pos = [means[i].tolist() for i in range(5)]"
   ]
  },
  {
   "cell_type": "code",
   "execution_count": 24,
   "metadata": {},
   "outputs": [
    {
     "data": {
      "image/png": "[encoded data removed]",
      "text/plain": [
       "<Figure size 432x288 with 1 Axes>"
      ]
     },
     "metadata": {
      "needs_background": "light"
     },
     "output_type": "display_data"
    }
   ],
   "source": [
    "idx = 1\n",
    "for p in pos:\n",
    "    plt.scatter(p[0], p[1], s = 500)\n",
    "    plt.annotate(f\"{idx}\", xy = (p[0],p[1]), fontsize = 12, c = 'w')\n",
    "    idx+=1\n",
    "plt.tight_layout()"
   ]
  }
 ],
 "metadata": {
  "kernelspec": {
   "display_name": "Python 3",
   "language": "python",
   "name": "python3"
  },
  "language_info": {
   "codemirror_mode": {
    "name": "ipython",
    "version": 3
   },
   "file_extension": ".py",
   "mimetype": "text/x-python",
   "name": "python",
   "nbconvert_exporter": "python",
   "pygments_lexer": "ipython3",
   "version": "3.8.5"
  }
 },
 "nbformat": 4,
 "nbformat_minor": 4
}
