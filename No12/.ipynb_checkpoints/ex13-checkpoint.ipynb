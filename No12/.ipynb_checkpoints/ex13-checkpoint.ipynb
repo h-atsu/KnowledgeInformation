{
 "cells": [
  {
   "cell_type": "markdown",
   "metadata": {},
   "source": [
    "## 森田研究室 33B21009 羽田充宏"
   ]
  },
  {
   "cell_type": "markdown",
   "metadata": {},
   "source": [
    "## 課題13-1 hmmlearnを用いてdata.csvからHMMを学習する"
   ]
  },
  {
   "cell_type": "code",
   "execution_count": 16,
   "metadata": {},
   "outputs": [],
   "source": [
    "import numpy as np\n",
    "from hmmlearn import hmm\n",
    "np.random.seed(42)"
   ]
  },
  {
   "cell_type": "code",
   "execution_count": 17,
   "metadata": {},
   "outputs": [],
   "source": [
    "X = np.loadtxt('data.csv',delimiter = ',')"
   ]
  },
  {
   "cell_type": "code",
   "execution_count": 18,
   "metadata": {},
   "outputs": [
    {
     "data": {
      "text/plain": [
       "(1000, 2)"
      ]
     },
     "execution_count": 18,
     "metadata": {},
     "output_type": "execute_result"
    }
   ],
   "source": [
    "X.shape"
   ]
  },
  {
   "cell_type": "code",
   "execution_count": 19,
   "metadata": {},
   "outputs": [
    {
     "data": {
      "text/plain": [
       "array([[ 2.59096539,  0.13559196],\n",
       "       [ 1.72217017,  0.5289679 ],\n",
       "       [ 1.84197462, -0.21819851],\n",
       "       [ 4.37844612, 10.34393468],\n",
       "       [ 7.59912621,  0.18687707],\n",
       "       [ 5.75057235,  8.41670982],\n",
       "       [ 7.67935418, -1.4621948 ],\n",
       "       [-0.67642954,  8.03447793],\n",
       "       [10.00703962,  7.58858762],\n",
       "       [ 1.64141978, -0.57665958]])"
      ]
     },
     "execution_count": 19,
     "metadata": {},
     "output_type": "execute_result"
    }
   ],
   "source": [
    "X[:10]"
   ]
  },
  {
   "cell_type": "markdown",
   "metadata": {},
   "source": [
    "上のデータは二次元ガウス分布に従って出力されたものである．  \n",
    "また各ステップ(合計1000)でサンプルデータの従う正規分布の平均値$\\mu$は異なっており，潜在変数となっている．  \n",
    "学習では観測データから潜在変数の数と値，潜在変数間の遷移確率およびグラフ構造を推定することが目的となっている．  \n",
    "前提として遷移確率は$p \\in \\{0, 0.1, ..., 1.0\\}$であり，ガウス分布の平均は$\\mu \\in \\{0, 1, ..., 10\\}$であり，分散は一定の値となっている．"
   ]
  },
  {
   "cell_type": "markdown",
   "metadata": {},
   "source": [
    "以下では学習コードについて説明を行う．  \n",
    "今回は二次元ガウス分布について扱うのでGaussianHMMクラスを利用する．  \n",
    "一旦，潜在変数のノード数は3であるという過程のもとで実験を行う"
   ]
  },
  {
   "cell_type": "code",
   "execution_count": 21,
   "metadata": {},
   "outputs": [
    {
     "data": {
      "text/plain": [
       "GaussianHMM(covariance_type='full', n_components=3)"
      ]
     },
     "execution_count": 21,
     "metadata": {},
     "output_type": "execute_result"
    }
   ],
   "source": [
    "model = hmm.GaussianHMM(n_components=3, covariance_type=\"full\")\n",
    "model.fit(X)"
   ]
  },
  {
   "cell_type": "markdown",
   "metadata": {},
   "source": [
    "学習の結果得られた結果は以下のようになる．  \n",
    "- 状態遷移確率分布"
   ]
  },
  {
   "cell_type": "code",
   "execution_count": 27,
   "metadata": {},
   "outputs": [
    {
     "data": {
      "text/plain": [
       "array([[0.32132019, 0.53453599, 0.14414382],\n",
       "       [0.38864656, 0.42576419, 0.18558925],\n",
       "       [0.23077676, 0.40865064, 0.36057261]])"
      ]
     },
     "execution_count": 27,
     "metadata": {},
     "output_type": "execute_result"
    }
   ],
   "source": [
    "model.transmat_"
   ]
  },
  {
   "cell_type": "markdown",
   "metadata": {},
   "source": [
    "- 潜在変数(初期値確率)"
   ]
  },
  {
   "cell_type": "code",
   "execution_count": 32,
   "metadata": {},
   "outputs": [
    {
     "data": {
      "text/plain": [
       "array([1.82764418e-183, 1.00000000e+000, 8.34779084e-075])"
      ]
     },
     "execution_count": 32,
     "metadata": {},
     "output_type": "execute_result"
    }
   ],
   "source": [
    "model.startprob_"
   ]
  },
  {
   "cell_type": "markdown",
   "metadata": {},
   "source": [
    "- 潜在変数(平均値) $\\mu$"
   ]
  },
  {
   "cell_type": "code",
   "execution_count": 33,
   "metadata": {},
   "outputs": [
    {
     "data": {
      "text/plain": [
       "array([[7.41778206, 8.49724191],\n",
       "       [5.61681281, 0.03944475],\n",
       "       [0.07255441, 7.03243999]])"
      ]
     },
     "execution_count": 33,
     "metadata": {},
     "output_type": "execute_result"
    }
   ],
   "source": [
    "model.means_"
   ]
  },
  {
   "cell_type": "markdown",
   "metadata": {},
   "source": [
    "- "
   ]
  },
  {
   "cell_type": "code",
   "execution_count": 26,
   "metadata": {},
   "outputs": [
    {
     "data": {
      "text/plain": [
       "array([[[ 7.18647634, -3.90009046],\n",
       "        [-3.90009046,  2.8160084 ]],\n",
       "\n",
       "       [[ 9.47432759, -0.12634692],\n",
       "        [-0.12634692,  0.51333715]],\n",
       "\n",
       "       [[ 0.50253668,  0.01444439],\n",
       "        [ 0.01444439,  0.60208135]]])"
      ]
     },
     "execution_count": 26,
     "metadata": {},
     "output_type": "execute_result"
    }
   ],
   "source": [
    "model.covars_"
   ]
  },
  {
   "cell_type": "code",
   "execution_count": null,
   "metadata": {},
   "outputs": [],
   "source": []
  },
  {
   "cell_type": "markdown",
   "metadata": {},
   "source": [
    "## 課題13-2 作成したプログラムを用いてdata.csvを生成した元のHMMの隠れ状態数，グラフ構造，遷移確率を推定"
   ]
  },
  {
   "cell_type": "code",
   "execution_count": null,
   "metadata": {},
   "outputs": [],
   "source": []
  }
 ],
 "metadata": {
  "kernelspec": {
   "display_name": "Python 3",
   "language": "python",
   "name": "python3"
  },
  "language_info": {
   "codemirror_mode": {
    "name": "ipython",
    "version": 3
   },
   "file_extension": ".py",
   "mimetype": "text/x-python",
   "name": "python",
   "nbconvert_exporter": "python",
   "pygments_lexer": "ipython3",
   "version": "3.8.5"
  }
 },
 "nbformat": 4,
 "nbformat_minor": 4
}
