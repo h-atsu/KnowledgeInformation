{
 "cells": [
  {
   "cell_type": "markdown",
   "metadata": {},
   "source": [
    "## 知識情報学第7回演習サンプルプログラム ex7.ipynb\n",
    "- Programmed by Nattapong Thammasan, 監修　福井健一\n",
    "- Last updated: 2020/11/24\n",
    "- Checked with Python 3.8, scikit-learn 0.23.2\n",
    "- MIT License\n",
    "\n",
    "## 多層パーセプトロンによる手書き文字認識\n",
    "- (注)scikit-learn 0.18以降ではMLPが実装されているが，ここではLossの履歴を出力できる外部のプログラムを利用する"
   ]
  },
  {
   "cell_type": "markdown",
   "metadata": {},
   "source": [
    "### 課題2: 隠れノード数，主成分数，学習データ数を変化させてAccuracyと収束性について考察しなさい．"
   ]
  },
  {
   "cell_type": "code",
   "execution_count": 17,
   "metadata": {},
   "outputs": [],
   "source": [
    "import os\n",
    "import struct\n",
    "import numpy as np\n",
    "import matplotlib.pyplot as plt\n",
    "from neuralnet import NeuralNetMLP\n",
    "from sklearn.decomposition import PCA\n",
    "from sklearn.metrics import accuracy_score"
   ]
  },
  {
   "cell_type": "markdown",
   "metadata": {},
   "source": [
    "### MNISTデータの読み込み関数"
   ]
  },
  {
   "cell_type": "code",
   "execution_count": 5,
   "metadata": {},
   "outputs": [],
   "source": [
    "def load_mnist(path, kind='train'):\n",
    "\n",
    "    labels_path = os.path.join(path,'%s-labels.idx1-ubyte'% kind)\n",
    "    images_path = os.path.join(path,'%s-images.idx3-ubyte'% kind)\n",
    "   \n",
    "    with open(labels_path, 'rb') as lbpath:\n",
    "        magic, n = struct.unpack('>II',lbpath.read(8))\n",
    "        labels = np.fromfile(lbpath,dtype=np.uint8)\n",
    "    \n",
    "    with open(images_path, 'rb') as imgpath:\n",
    "        magic, num, rows, cols = struct.unpack(\">IIII\",imgpath.read(16))\n",
    "        images = np.fromfile(imgpath,dtype=np.uint8).reshape(len(labels), 784)\n",
    "        \n",
    "    return images, labels"
   ]
  },
  {
   "cell_type": "code",
   "execution_count": 6,
   "metadata": {},
   "outputs": [],
   "source": [
    "# MNISTデータの読み込み\n",
    "current_path = os.path.dirname(os.path.realpath('__file__'))\n",
    "X_train, y_train = load_mnist(current_path, kind='train')\n",
    "X_test, y_test = load_mnist(current_path, kind='t10k')"
   ]
  },
  {
   "cell_type": "code",
   "execution_count": 7,
   "metadata": {},
   "outputs": [],
   "source": [
    "# 学習データとテストデータは最初の1000個用いる\n",
    "n_training_data = 1000\n",
    "n_test_data = 1000\n",
    "\n",
    "X_trn = X_train[:n_training_data][:]\n",
    "y_trn = y_train[:n_training_data][:]\n",
    "X_tst = X_test[:n_test_data][:]\n",
    "y_tst = y_test[:n_test_data][:]"
   ]
  },
  {
   "cell_type": "markdown",
   "metadata": {},
   "source": [
    "### 課題1(c) PCAにより次元圧縮を行い，圧縮後の空間でMLPにより学習するように変更する．"
   ]
  },
  {
   "cell_type": "code",
   "execution_count": 8,
   "metadata": {},
   "outputs": [],
   "source": []
  },
  {
   "cell_type": "markdown",
   "metadata": {},
   "source": [
    "### 多層パーセプトロン(MLP)のインスタンスの生成と学習"
   ]
  },
  {
   "cell_type": "code",
   "execution_count": 9,
   "metadata": {},
   "outputs": [
    {
     "name": "stderr",
     "output_type": "stream",
     "text": [
      "Epoch: 300/300"
     ]
    },
    {
     "data": {
      "text/plain": [
       "<neuralnet.NeuralNetMLP at 0x1180d3160>"
      ]
     },
     "execution_count": 9,
     "metadata": {},
     "output_type": "execute_result"
    }
   ],
   "source": [
    "nn = NeuralNetMLP(n_output=10,              # 出力ユニット数\n",
    "                  n_features=784,  # 入力ユニット数\n",
    "                  n_hidden=30,              # 隠れユニット数\n",
    "                  l2=2.0,                   # L2正則化のλパラメータ\n",
    "                  l1=0.0,                   # L1正則化のλパラメータ\n",
    "                  epochs=300,               # 学習エポック数\n",
    "                  eta=0.001,                # 学習率の初期値\n",
    "                  alpha = 0.001,            # モーメンタム学習の1つ前の勾配の係数\n",
    "                  decrease_const=0.00001,   # 適応学習率の減少定数\n",
    "                  minibatches=10,           # 各エポックでのミニバッチ数\n",
    "                  shuffle=True,             # データのシャッフル\n",
    "                  random_state=1)           # 乱数シードの状態\n",
    "                  \n",
    "nn.fit(X_trn_pca, y_trn, print_progress=True)"
   ]
  },
  {
   "cell_type": "markdown",
   "metadata": {},
   "source": [
    "### 課題1(a) 学習データおよびテストデータに対するAccuracyの算出"
   ]
  },
  {
   "cell_type": "code",
   "execution_count": 24,
   "metadata": {},
   "outputs": [
    {
     "name": "stdout",
     "output_type": "stream",
     "text": [
      "accuracy for training data: 0.8460\n",
      "accuracy for test data: 0.7360\n"
     ]
    }
   ],
   "source": [
    "# 下記は実行例"
   ]
  },
  {
   "cell_type": "markdown",
   "metadata": {},
   "source": [
    "### 課題1(b) 学習曲線のプロット\n",
    "- ヒント：損失関数値の履歴はcost_に格納されている"
   ]
  },
  {
   "cell_type": "code",
   "execution_count": 25,
   "metadata": {},
   "outputs": [
    {
     "data": {
      "image/png": "[encoded data removed]",
      "text/plain": [
       "<Figure size 432x288 with 1 Axes>"
      ]
     },
     "metadata": {
      "needs_background": "light"
     },
     "output_type": "display_data"
    }
   ],
   "source": [
    "# 下記は実行例"
   ]
  }
 ],
 "metadata": {
  "kernelspec": {
   "display_name": "Python 3",
   "language": "python",
   "name": "python3"
  },
  "language_info": {
   "codemirror_mode": {
    "name": "ipython",
    "version": 3
   },
   "file_extension": ".py",
   "mimetype": "text/x-python",
   "name": "python",
   "nbconvert_exporter": "python",
   "pygments_lexer": "ipython3",
   "version": "3.7.6"
  }
 },
 "nbformat": 4,
 "nbformat_minor": 2
}
