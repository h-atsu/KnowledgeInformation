{
 "cells": [
  {
   "cell_type": "markdown",
   "metadata": {},
   "source": [
    "## 知識情報学第6回演習サンプルプログラム ex6.ipynb\n",
    "- Programmed by Wu Hongle, 監修　福井健一\n",
    "- Last updated: 2019/09/02\n",
    "- Checked with Python 3.8.8, scikit-learn 1.0\n",
    "- MIT Lisence\n",
    "\n",
    "## SVMによるBreast Cancerデータの識別\n",
    "- 入れ子交差検証で最適パラメータを探索"
   ]
  },
  {
   "cell_type": "code",
   "execution_count": 1,
   "metadata": {},
   "outputs": [],
   "source": [
    "import numpy as np\n",
    "from sklearn.svm import SVC\n",
    "from sklearn.datasets import load_breast_cancer\n",
    "from sklearn.model_selection import StratifiedKFold, GridSearchCV, cross_validate\n",
    "from sklearn.metrics import accuracy_score\n",
    "from functools import partial\n",
    "from sklearn.preprocessing import scale\n",
    "import matplotlib.pyplot as plt \n",
    "import optuna\n",
    "import pandas as pd"
   ]
  },
  {
   "cell_type": "markdown",
   "metadata": {},
   "source": [
    "### Breast Cancerデータのロード"
   ]
  },
  {
   "cell_type": "code",
   "execution_count": 2,
   "metadata": {},
   "outputs": [],
   "source": [
    "df = load_breast_cancer()\n",
    "X = df.data\n",
    "y = df.target\n",
    "\n",
    "# z標準化\n",
    "X = scale(X)"
   ]
  },
  {
   "cell_type": "code",
   "execution_count": 3,
   "metadata": {},
   "outputs": [
    {
     "name": "stdout",
     "output_type": "stream",
     "text": [
      ".. _breast_cancer_dataset:\n",
      "\n",
      "Breast cancer wisconsin (diagnostic) dataset\n",
      "--------------------------------------------\n",
      "\n",
      "**Data Set Characteristics:**\n",
      "\n",
      "    :Number of Instances: 569\n",
      "\n",
      "    :Number of Attributes: 30 numeric, predictive attributes and the class\n",
      "\n",
      "    :Attribute Information:\n",
      "        - radius (mean of distances from center to points on the perimeter)\n",
      "        - texture (standard deviation of gray-scale values)\n",
      "        - perimeter\n",
      "        - area\n",
      "        - smoothness (local variation in radius lengths)\n",
      "        - compactness (perimeter^2 / area - 1.0)\n",
      "        - concavity (severity of concave portions of the contour)\n",
      "        - concave points (number of concave portions of the contour)\n",
      "        - symmetry\n",
      "        - fractal dimension (\"coastline approximation\" - 1)\n",
      "\n",
      "        The mean, standard error, and \"worst\" or largest (mean of the three\n",
      "        worst/largest values) of these features were computed for each image,\n",
      "        resulting in 30 features.  For instance, field 0 is Mean Radius, field\n",
      "        10 is Radius SE, field 20 is Worst Radius.\n",
      "\n",
      "        - class:\n",
      "                - WDBC-Malignant\n",
      "                - WDBC-Benign\n",
      "\n",
      "    :Summary Statistics:\n",
      "\n",
      "    ===================================== ====== ======\n",
      "                                           Min    Max\n",
      "    ===================================== ====== ======\n",
      "    radius (mean):                        6.981  28.11\n",
      "    texture (mean):                       9.71   39.28\n",
      "    perimeter (mean):                     43.79  188.5\n",
      "    area (mean):                          143.5  2501.0\n",
      "    smoothness (mean):                    0.053  0.163\n",
      "    compactness (mean):                   0.019  0.345\n",
      "    concavity (mean):                     0.0    0.427\n",
      "    concave points (mean):                0.0    0.201\n",
      "    symmetry (mean):                      0.106  0.304\n",
      "    fractal dimension (mean):             0.05   0.097\n",
      "    radius (standard error):              0.112  2.873\n",
      "    texture (standard error):             0.36   4.885\n",
      "    perimeter (standard error):           0.757  21.98\n",
      "    area (standard error):                6.802  542.2\n",
      "    smoothness (standard error):          0.002  0.031\n",
      "    compactness (standard error):         0.002  0.135\n",
      "    concavity (standard error):           0.0    0.396\n",
      "    concave points (standard error):      0.0    0.053\n",
      "    symmetry (standard error):            0.008  0.079\n",
      "    fractal dimension (standard error):   0.001  0.03\n",
      "    radius (worst):                       7.93   36.04\n",
      "    texture (worst):                      12.02  49.54\n",
      "    perimeter (worst):                    50.41  251.2\n",
      "    area (worst):                         185.2  4254.0\n",
      "    smoothness (worst):                   0.071  0.223\n",
      "    compactness (worst):                  0.027  1.058\n",
      "    concavity (worst):                    0.0    1.252\n",
      "    concave points (worst):               0.0    0.291\n",
      "    symmetry (worst):                     0.156  0.664\n",
      "    fractal dimension (worst):            0.055  0.208\n",
      "    ===================================== ====== ======\n",
      "\n",
      "    :Missing Attribute Values: None\n",
      "\n",
      "    :Class Distribution: 212 - Malignant, 357 - Benign\n",
      "\n",
      "    :Creator:  Dr. William H. Wolberg, W. Nick Street, Olvi L. Mangasarian\n",
      "\n",
      "    :Donor: Nick Street\n",
      "\n",
      "    :Date: November, 1995\n",
      "\n",
      "This is a copy of UCI ML Breast Cancer Wisconsin (Diagnostic) datasets.\n",
      "https://goo.gl/U2Uwz2\n",
      "\n",
      "Features are computed from a digitized image of a fine needle\n",
      "aspirate (FNA) of a breast mass.  They describe\n",
      "characteristics of the cell nuclei present in the image.\n",
      "\n",
      "Separating plane described above was obtained using\n",
      "Multisurface Method-Tree (MSM-T) [K. P. Bennett, \"Decision Tree\n",
      "Construction Via Linear Programming.\" Proceedings of the 4th\n",
      "Midwest Artificial Intelligence and Cognitive Science Society,\n",
      "pp. 97-101, 1992], a classification method which uses linear\n",
      "programming to construct a decision tree.  Relevant features\n",
      "were selected using an exhaustive search in the space of 1-4\n",
      "features and 1-3 separating planes.\n",
      "\n",
      "The actual linear program used to obtain the separating plane\n",
      "in the 3-dimensional space is that described in:\n",
      "[K. P. Bennett and O. L. Mangasarian: \"Robust Linear\n",
      "Programming Discrimination of Two Linearly Inseparable Sets\",\n",
      "Optimization Methods and Software 1, 1992, 23-34].\n",
      "\n",
      "This database is also available through the UW CS ftp server:\n",
      "\n",
      "ftp ftp.cs.wisc.edu\n",
      "cd math-prog/cpo-dataset/machine-learn/WDBC/\n",
      "\n",
      ".. topic:: References\n",
      "\n",
      "   - W.N. Street, W.H. Wolberg and O.L. Mangasarian. Nuclear feature extraction \n",
      "     for breast tumor diagnosis. IS&T/SPIE 1993 International Symposium on \n",
      "     Electronic Imaging: Science and Technology, volume 1905, pages 861-870,\n",
      "     San Jose, CA, 1993.\n",
      "   - O.L. Mangasarian, W.N. Street and W.H. Wolberg. Breast cancer diagnosis and \n",
      "     prognosis via linear programming. Operations Research, 43(4), pages 570-577, \n",
      "     July-August 1995.\n",
      "   - W.H. Wolberg, W.N. Street, and O.L. Mangasarian. Machine learning techniques\n",
      "     to diagnose breast cancer from fine-needle aspirates. Cancer Letters 77 (1994) \n",
      "     163-171.\n"
     ]
    }
   ],
   "source": [
    "print(df.DESCR)"
   ]
  },
  {
   "cell_type": "markdown",
   "metadata": {},
   "source": [
    "### 入れ子交差検証でハイパーパラメータを最適化\n",
    "- 【課題1】探索するパラメータにカーネル関数の追加や範囲を変更して最適パラメータを探してみましょう\n",
    "    - グリッドサーチパラメータリストの書き方は下記を参照\n",
    "        - https://scikit-learn.org/stable/modules/grid_search.html#grid-search\n",
    "    - SVCの可能なパラメータリストは下記を参照\n",
    "        - https://scikit-learn.org/stable/modules/generated/sklearn.svm.SVC.html#sklearn.svm.SVC\n",
    "- 【課題2】Optunaを利用してハイパーパラメータを最適化し，グリッドサーチと比較してみましょう．\n",
    "    - Optuna: https://optuna.org\n",
    "    - 使い方は，Code Exmaplesを参照\n",
    "    - グリッドサーチ同様に入れ子の交差検証を用いること\n",
    "    - optunaでパラメータの生成範囲指定は下記を参照（関数 suggest_***）\n",
    "        - https://optuna.readthedocs.io/en/stable/reference/generated/optuna.trial.Trial.html#optuna.trial.Trial\n",
    "- 【課題3】最適なカーネル関数およびハイパーパラメータ，そこから分かるデータの特徴について考察してみましょう．"
   ]
  },
  {
   "cell_type": "markdown",
   "metadata": {},
   "source": [
    "# 課題6-1\n",
    "グリッドサーチすべきパラメータ  \n",
    "$C \\cdots$ L2ノルム正則化項の大きさ  \n",
    "$kernel \\cdots$ カーネル関数の種類  \n",
    "$\\gamma \\cdots$ 多項式カーネル，RBFカーネルにおける定数  \n",
    "$degree \\cdots$ 多項式カーネルの次数"
   ]
  },
  {
   "cell_type": "code",
   "execution_count": 4,
   "metadata": {},
   "outputs": [
    {
     "name": "stdout",
     "output_type": "stream",
     "text": [
      "Fold # 1; Best Parameter: {'C': 1, 'kernel': 'linear'}, Accuracy: 0.977\n",
      "Fold # 2; Best Parameter: {'C': 1, 'gamma': 0.01, 'kernel': 'rbf'}, Accuracy: 0.971\n",
      "Fold # 3; Best Parameter: {'C': 10, 'gamma': 0.01, 'kernel': 'rbf'}, Accuracy: 0.979\n",
      "Fold # 4; Best Parameter: {'C': 10, 'gamma': 0.02, 'kernel': 'rbf'}, Accuracy: 0.975\n",
      "Fold # 5; Best Parameter: {'C': 10, 'gamma': 0.02, 'kernel': 'rbf'}, Accuracy: 0.977\n",
      "Fold # 6; Best Parameter: {'C': 1, 'degree': 1, 'gamma': 0.1, 'kernel': 'poly'}, Accuracy: 0.982\n",
      "Fold # 7; Best Parameter: {'C': 10, 'gamma': 0.01, 'kernel': 'rbf'}, Accuracy: 0.977\n",
      "Fold # 8; Best Parameter: {'C': 1, 'gamma': 0.02, 'kernel': 'rbf'}, Accuracy: 0.977\n",
      "Fold # 9; Best Parameter: {'C': 1, 'degree': 1, 'gamma': 0.05, 'kernel': 'poly'}, Accuracy: 0.975\n",
      "Fold #10; Best Parameter: {'C': 10, 'gamma': 0.02, 'kernel': 'rbf'}, Accuracy: 0.979\n"
     ]
    }
   ],
   "source": [
    "# 外側ループのための交差検証用データ生成インスタンス\n",
    "kfold = StratifiedKFold(n_splits=10, shuffle=True, random_state=1)\n",
    "\n",
    "acc_trn_list = []  #外側ループのfold毎の学習データに対するaccuracy格納用\n",
    "acc_tst_list = []  #外側ループのfold毎のテストデータに対するaccuracy格納用\n",
    "\n",
    "# グリッドサーチのパラメータリスト\n",
    "parameters = [\n",
    "    {'C': [1,10,100,1000], 'kernel': ['linear']},\n",
    "    {'C': [1,10,100,1000], 'gamma':[0.01, 0.02, 0.05, 0.1, 0,2, 1, 10, 100], 'kernel':['rbf']},\n",
    "    {'C': [1,10,100,1000], 'gamma':[0.01, 0.02, 0.05, 0.1, 0,2, 1, 10, 100], 'degree':[1,2,3,4],'kernel':['poly']}\n",
    "]\n",
    "# 内側ループでグリッドサーチを行う交差検証インスタンス\n",
    "gs = GridSearchCV(SVC(), parameters, cv=3) \n",
    "\n",
    "# resultのnumpy配列を格納\n",
    "res = []\n",
    "\n",
    "k=0\n",
    "# 内側ループのグリッドサーチ\n",
    "for train_itr, test_itr in kfold.split(X, y):\n",
    "    gs.fit(X[train_itr], y[train_itr])\n",
    "    print('Fold #{:2d}; Best Parameter: {}, Accuracy: {:.3f}'.format(k+1,gs.best_params_,gs.best_score_))\n",
    "    acc_trn_list.append(gs.score(X[train_itr],y[train_itr]))\n",
    "    acc_tst_list.append(gs.score(X[test_itr],y[test_itr]))\n",
    "    \n",
    "    res.append(gs.cv_results_)\n",
    "    k=k+1"
   ]
  },
  {
   "cell_type": "code",
   "execution_count": 5,
   "metadata": {},
   "outputs": [],
   "source": [
    "df = pd.concat(pd.DataFrame(i) for i in res)"
   ]
  },
  {
   "cell_type": "code",
   "execution_count": 6,
   "metadata": {},
   "outputs": [
    {
     "data": {
      "text/plain": [
       "<AxesSubplot:>"
      ]
     },
     "execution_count": 6,
     "metadata": {},
     "output_type": "execute_result"
    },
    {
     "data": {
      "image/png": "[encoded data removed]",
      "text/plain": [
       "<Figure size 432x288 with 1 Axes>"
      ]
     },
     "metadata": {
      "needs_background": "light"
     },
     "output_type": "display_data"
    }
   ],
   "source": [
    "df.sort_values('mean_test_score', ascending=False).head(50)['param_kernel'].hist()"
   ]
  },
  {
   "cell_type": "markdown",
   "metadata": {},
   "source": [
    "### 平均Accuracy"
   ]
  },
  {
   "cell_type": "code",
   "execution_count": 7,
   "metadata": {},
   "outputs": [
    {
     "name": "stdout",
     "output_type": "stream",
     "text": [
      "Training data: 0.987\n",
      "Test data: 0.974\n"
     ]
    }
   ],
   "source": [
    "print('Training data: %1.3f' % np.mean(acc_trn_list))\n",
    "print('Test data: %1.3f' % np.mean(acc_tst_list))"
   ]
  },
  {
   "cell_type": "markdown",
   "metadata": {},
   "source": [
    "実験結果より\n",
    "rbfカーネルを使うと精度が良くなりそうだと予想ができる．　  \n",
    "この時に使うべきハイパーパラメータとしてはC = 1 or 10, gamma = 0.01 or 0.02 が妥当そうであるとわかる．  \n",
    "また上のヒストグラムは性能上位50個の分類器にどのカーネルが用いられてるかを表したものであるが，線形カーネルに比べて多項式，rbfカーネルの方がこのデータに対しては性能が高くなりそうだという予想がたつ．"
   ]
  },
  {
   "cell_type": "markdown",
   "metadata": {},
   "source": [
    "# 課題6-2"
   ]
  },
  {
   "cell_type": "code",
   "execution_count": 8,
   "metadata": {},
   "outputs": [],
   "source": [
    "# 目的関数の定義\n",
    "def objective(X,y,trial):\n",
    "    kernel = trial.suggest_categorical('kernel', ['linear', 'rbf', 'poly'])\n",
    "    \n",
    "    if kernel == 'linear':\n",
    "        params = {\n",
    "            'kernel' : 'linear',\n",
    "            'C' : trial.suggest_loguniform('C', 1e-5, 1e5)\n",
    "        }\n",
    "        clf = SVC(**params)\n",
    "    \n",
    "    elif kernel == 'rbf':\n",
    "        params = {\n",
    "            'kernel' : 'rbf',\n",
    "            'C' : trial.suggest_loguniform('C', 1e-5, 1e5),\n",
    "            'gamma' : trial.suggest_uniform('gamma', 0, 100)\n",
    "        }\n",
    "        clf = SVC(**params)\n",
    "    \n",
    "    else:\n",
    "        params = {\n",
    "            'kernel' : 'poly',\n",
    "            'C' : trial.suggest_loguniform('C', 1e-5, 1e5),\n",
    "            'gamma' : trial.suggest_uniform('gamma', 0, 100),\n",
    "            'degree' : trial.suggest_int('degree', 1,5)\n",
    "        }\n",
    "        clf = SVC(**params)\n",
    "                   \n",
    "    #内側の交差検証，　上の例とあわせて3foldとする\n",
    "    kfold = StratifiedKFold(n_splits=3, shuffle=True, random_state=1)\n",
    "    scores = cross_validate(clf, X=X, y=y, cv=kfold)\n",
    "    return scores['test_score'].mean()\n",
    "    "
   ]
  },
  {
   "cell_type": "code",
   "execution_count": 9,
   "metadata": {},
   "outputs": [
    {
     "name": "stdout",
     "output_type": "stream",
     "text": [
      "Fold # 1; Best Parameter: {'kernel': 'linear', 'C': 0.6615943685866796} , Best Accuracy: 0.982\n",
      "Fold # 2; Best Parameter: {'kernel': 'linear', 'C': 0.016940280600386663} , Best Accuracy: 0.975\n",
      "Fold # 3; Best Parameter: {'kernel': 'linear', 'C': 0.046337115711338375} , Best Accuracy: 0.975\n",
      "Fold # 4; Best Parameter: {'kernel': 'linear', 'C': 0.08411176016820456} , Best Accuracy: 0.975\n",
      "Fold # 5; Best Parameter: {'kernel': 'linear', 'C': 0.032242224301580726} , Best Accuracy: 0.979\n",
      "Fold # 6; Best Parameter: {'kernel': 'linear', 'C': 0.020135601813066114} , Best Accuracy: 0.969\n",
      "Fold # 7; Best Parameter: {'kernel': 'linear', 'C': 0.225456377888212} , Best Accuracy: 0.984\n",
      "Fold # 8; Best Parameter: {'kernel': 'linear', 'C': 0.10294860500390002} , Best Accuracy: 0.982\n",
      "Fold # 9; Best Parameter: {'kernel': 'linear', 'C': 0.05015630794106775} , Best Accuracy: 0.971\n",
      "Fold #10; Best Parameter: {'kernel': 'linear', 'C': 0.10925289254071148} , Best Accuracy: 0.981\n"
     ]
    }
   ],
   "source": [
    "optuna.logging.disable_default_handler()\n",
    "# 外側ループのための交差検証用データ生成インスタンス\n",
    "kfold = StratifiedKFold(n_splits=10, shuffle=True, random_state=1)\n",
    "\n",
    "acc_trn_list = []  #外側ループのfold毎の学習データに対するaccuracy格納用\n",
    "acc_tst_list = []  #外側ループのfold毎のテストデータに対するaccuracy格納用\n",
    "\n",
    "\n",
    "k=0\n",
    "# 内側ループのグリッドサーチ\n",
    "for train_itr, test_itr in kfold.split(X, y):\n",
    "    X_train,y_train = X[train_itr],y[train_itr]\n",
    "    f = partial(objective, X_train, y_train)\n",
    "    study = optuna.create_study(direction = 'maximize')\n",
    "    study.optimize(f, n_trials = 500)\n",
    "    print('Fold #{:2d}; Best Parameter: {} , Best Accuracy: {:.3}'.format(k+1,study.best_params, study.best_value))\n",
    "    model = SVC(**study.best_params)\n",
    "    #学習されたハイパーパラメータで訓練，テスト誤差を評価\n",
    "    model.fit(X_train, y_train)\n",
    "    acc_trn_list.append(accuracy_score(model.predict(X_train), y_train))\n",
    "    acc_tst_list.append(accuracy_score(model.predict(X[test_itr]), y[test_itr]))\n",
    "    k=k+1"
   ]
  },
  {
   "cell_type": "markdown",
   "metadata": {},
   "source": [
    "## 平均Accuracy"
   ]
  },
  {
   "cell_type": "code",
   "execution_count": 10,
   "metadata": {},
   "outputs": [
    {
     "name": "stdout",
     "output_type": "stream",
     "text": [
      "Training data: 0.983\n",
      "Test data: 0.967\n"
     ]
    }
   ],
   "source": [
    "print('Training data: %1.3f' % np.mean(acc_trn_list))\n",
    "print('Test data: %1.3f' % np.mean(acc_tst_list))"
   ]
  },
  {
   "cell_type": "markdown",
   "metadata": {},
   "source": [
    "optunaを使った際のテストデータに対する平均Accuracyは96.8%となっており，これはグリッドサーチで求めた際の平均Accuracy97.4%よりも僅かに低くなっている．  \n",
    "これはoptunaで探索する際に，ハイパーパラメータの探索空間が広すぎたために500回の試行では十分に良い解を見つけられなかったことが考えられる．\n",
    "一方で，上のBest Parameterを見てわかる通り，optunaを用いたハイパーパラメータ最適化においては線形カーネルつまり，ナイーブなSVMでも十分に良いパフォーマンスを示すことがわかった．  \n",
    "線形カーネルが選ばれた際のハイパーパラメータについて見ていくと， Cの値が1以下つまり，より正則化項を強めた方が良い結果が出る傾向にあることがわかる．  \n",
    "グリッドサーチの際はCの下限を1と決め打ってしまっていたが故にこのような結果が得られなかったが，ベイズ最適化をベースとしたoptunaではこのようによしなにハイパーパラメータの値を探索してくれることがこの実験からもわかる．  \n",
    "また連続変数の場合はグリッドサーチではある程度範囲を限定して整数値変数として探索せざるを得ないが，ベイズ最適化では連続変数も離散変数へと変換することなく最適化を実行することができる．  "
   ]
  },
  {
   "cell_type": "markdown",
   "metadata": {},
   "source": [
    "上の結果より，適切に正則化項のパラメータを定めれば，ナイーブな線形SVMによって訓練性能が98%近くの高精度の予測性能を叩き出すことができることが確認された．  \n",
    "つまり，データの特徴としてはほぼほぼ線形分離可能なデータであることがわかった．  \n",
    "今回のデータは30次元と特徴量次元が大きかったためにカーネル法を使って特徴量を高次元に変換することなく，線形分離できたが，一般に特徴量次元が少なく，非線形変換が必要なような以下のようなデータセットにおいてはカーネルトリックを用いたSVMが有効に機能すると予想される"
   ]
  },
  {
   "cell_type": "markdown",
   "metadata": {},
   "source": [
    "![FIGURE](fig.png \"サンプル\")"
   ]
  },
  {
   "cell_type": "markdown",
   "metadata": {},
   "source": [
    "以下では線形カーネルをなくして上の実験でのグリッドサーチの結果を上回るのかについて検証する"
   ]
  },
  {
   "cell_type": "code",
   "execution_count": 11,
   "metadata": {},
   "outputs": [
    {
     "name": "stdout",
     "output_type": "stream",
     "text": [
      "Fold # 1; Best Parameter: {'kernel': 'rbf', 'C': 7.791430787452349, 'gamma': 0.023639292969199206} , Best Accuracy: 0.975\n",
      "Fold # 2; Best Parameter: {'kernel': 'rbf', 'C': 5.469991397043256, 'gamma': 0.019257220562195462} , Best Accuracy: 0.977\n",
      "Fold # 3; Best Parameter: {'kernel': 'rbf', 'C': 3.8156547170875923, 'gamma': 0.010471886593613188} , Best Accuracy: 0.979\n",
      "Fold # 4; Best Parameter: {'kernel': 'rbf', 'C': 24.060719386915718, 'gamma': 0.013174275770768665} , Best Accuracy: 0.977\n",
      "Fold # 5; Best Parameter: {'kernel': 'rbf', 'C': 1.2627504817105897, 'gamma': 0.02138166469252505} , Best Accuracy: 0.975\n",
      "Fold # 6; Best Parameter: {'kernel': 'rbf', 'C': 2.616778125763535, 'gamma': 0.010601702936296715} , Best Accuracy: 0.973\n",
      "Fold # 7; Best Parameter: {'kernel': 'rbf', 'C': 20.100625583469448, 'gamma': 0.012606034370855551} , Best Accuracy: 0.984\n",
      "Fold # 8; Best Parameter: {'kernel': 'rbf', 'C': 2.5609524882293453, 'gamma': 0.014561786062017652} , Best Accuracy: 0.986\n",
      "Fold # 9; Best Parameter: {'kernel': 'rbf', 'C': 117.58530608339748, 'gamma': 0.013401802228420438} , Best Accuracy: 0.973\n",
      "Fold #10; Best Parameter: {'kernel': 'rbf', 'C': 6.855386705499527, 'gamma': 0.012236665940278963} , Best Accuracy: 0.986\n"
     ]
    }
   ],
   "source": [
    "# 目的関数の定義\n",
    "def objective(X,y,trial):\n",
    "    kernel = trial.suggest_categorical('kernel', ['rbf'])\n",
    "    \n",
    "\n",
    "    if kernel == 'rbf':\n",
    "        params = {\n",
    "            'kernel' : 'rbf',\n",
    "            'C' : trial.suggest_loguniform('C', 1e-5, 1e5),\n",
    "            'gamma' : trial.suggest_uniform('gamma', 0.01, 5)\n",
    "        }\n",
    "        clf = SVC(**params)    \n",
    "                   \n",
    "    #内側の交差検証，　上の例とあわせて3foldとする\n",
    "    kfold = StratifiedKFold(n_splits=3, shuffle=True, random_state=1)\n",
    "    scores = cross_validate(clf, X=X, y=y, cv=kfold)\n",
    "    return scores['test_score'].mean()\n",
    "    \n",
    "\n",
    "optuna.logging.disable_default_handler()\n",
    "# 外側ループのための交差検証用データ生成インスタンス\n",
    "kfold = StratifiedKFold(n_splits=10, shuffle=True, random_state=1)\n",
    "\n",
    "acc_trn_list = []  #外側ループのfold毎の学習データに対するaccuracy格納用\n",
    "acc_tst_list = []  #外側ループのfold毎のテストデータに対するaccuracy格納用\n",
    "\n",
    "\n",
    "k=0\n",
    "# 内側ループのグリッドサーチ\n",
    "for train_itr, test_itr in kfold.split(X, y):\n",
    "    X_train,y_train = X[train_itr],y[train_itr]\n",
    "    f = partial(objective, X_train, y_train)\n",
    "    study = optuna.create_study(direction = 'maximize')\n",
    "    study.optimize(f, n_trials = 500)\n",
    "    print('Fold #{:2d}; Best Parameter: {} , Best Accuracy: {:.3}'.format(k+1,study.best_params, study.best_value))\n",
    "    model = SVC(**study.best_params)\n",
    "    #学習されたハイパーパラメータで訓練，テスト誤差を評価\n",
    "    model.fit(X_train, y_train)\n",
    "    acc_trn_list.append(accuracy_score(model.predict(X_train), y_train))\n",
    "    acc_tst_list.append(accuracy_score(model.predict(X[test_itr]), y[test_itr]))\n",
    "    k=k+1"
   ]
  },
  {
   "cell_type": "code",
   "execution_count": 12,
   "metadata": {},
   "outputs": [
    {
     "name": "stdout",
     "output_type": "stream",
     "text": [
      "Training data: 0.989\n",
      "Test data: 0.981\n"
     ]
    }
   ],
   "source": [
    "print('Training data: %1.3f' % np.mean(acc_trn_list))\n",
    "print('Test data: %1.3f' % np.mean(acc_tst_list))"
   ]
  },
  {
   "cell_type": "markdown",
   "metadata": {},
   "source": [
    "optunaでの最適化により，上でのグリッドサーチよりも最終的に良い性能を出すパラメータを求めることができた．  \n",
    "一方で，optunaでパラメータを探索するにしてもuniformかloguniformにするかなどの選択が依然としてハイパーパラメータとなっているため，かなり職人技が要求されると感じた..."
   ]
  },
  {
   "cell_type": "markdown",
   "metadata": {},
   "source": [
    "## 追加考察"
   ]
  },
  {
   "cell_type": "markdown",
   "metadata": {},
   "source": [
    "上では今回用いたデータセットが線形分離できるような比較的簡単なデータと予想したが，その予想を確かめるためにlogistic回帰による分類を試みる"
   ]
  },
  {
   "cell_type": "markdown",
   "metadata": {},
   "source": [
    "上での実験と同様にlogistic回帰を行うにあたってのハイパーパラメータ探索をoptunaを用いて実行する"
   ]
  },
  {
   "cell_type": "code",
   "execution_count": 13,
   "metadata": {},
   "outputs": [],
   "source": [
    "from sklearn.linear_model import LogisticRegression\n",
    "# 目的関数の定義\n",
    "def objective(X,y,trial):\n",
    "    \n",
    "    penalty = trial.suggest_categorical('penalty', ['l2','l1','elasticnet'])\n",
    "    \n",
    "    if penalty == 'l1':\n",
    "        params = {\n",
    "            'penalty' : 'l1',\n",
    "            'solver' : trial.suggest_categorical('solver' , ['saga'])\n",
    "        }\n",
    "        params['C'] = trial.suggest_loguniform('C', 1e-10, 1e10)\n",
    "        clf = LogisticRegression(**params)        \n",
    "    \n",
    "    elif penalty == 'elasticnet':\n",
    "        params = {\n",
    "            'penalty' : 'elasticnet',\n",
    "            'solver' : trial.suggest_categorical('solver' , ['saga']),\n",
    "            'l1_ratio' : trial.suggest_uniform('l1_ratio', 0, 1)\n",
    "        }        \n",
    "        params['C'] = trial.suggest_loguniform('C', 1e-10, 1e10)\n",
    "        clf = LogisticRegression(**params)\n",
    "    else :\n",
    "        params = {\n",
    "            'penalty' : 'l2',\n",
    "            'C' : trial.suggest_loguniform('C', 1e-10, 1e10)\n",
    "        }\n",
    "        clf = LogisticRegression(**params)\n",
    "        \n",
    "       \n",
    "    #内側の交差検証，　上の例とあわせて3foldとする\n",
    "    kfold = StratifiedKFold(n_splits=3, shuffle=True, random_state=1)\n",
    "    scores = cross_validate(clf, X=X, y=y, cv=kfold)\n",
    "    return scores['test_score'].mean()"
   ]
  },
  {
   "cell_type": "code",
   "execution_count": 14,
   "metadata": {},
   "outputs": [
    {
     "name": "stdout",
     "output_type": "stream",
     "text": [
      "Fold # 1; Best Parameter: {'penalty': 'l2', 'C': 0.3671012160319369} , Best Accuracy: 0.982\n",
      "Fold # 2; Best Parameter: {'penalty': 'elasticnet', 'solver': 'saga', 'l1_ratio': 0.3786603354745324, 'C': 0.11383307398247758} , Best Accuracy: 0.977\n",
      "Fold # 3; Best Parameter: {'penalty': 'elasticnet', 'solver': 'saga', 'l1_ratio': 0.6925857904850952, 'C': 0.7468739249916825} , Best Accuracy: 0.98\n",
      "Fold # 4; Best Parameter: {'penalty': 'l1', 'solver': 'saga', 'C': 2.7099612805428324} , Best Accuracy: 0.979\n",
      "Fold # 5; Best Parameter: {'penalty': 'elasticnet', 'solver': 'saga', 'l1_ratio': 0.7062733462351362, 'C': 0.8587812554472557} , Best Accuracy: 0.982\n",
      "Fold # 6; Best Parameter: {'penalty': 'elasticnet', 'solver': 'saga', 'l1_ratio': 0.6805315122814097, 'C': 0.3005484235815352} , Best Accuracy: 0.975\n",
      "Fold # 7; Best Parameter: {'penalty': 'elasticnet', 'solver': 'saga', 'l1_ratio': 0.3412363476118888, 'C': 3.5438927099236173} , Best Accuracy: 0.982\n",
      "Fold # 8; Best Parameter: {'penalty': 'l2', 'C': 0.6329609413848675} , Best Accuracy: 0.986\n",
      "Fold # 9; Best Parameter: {'penalty': 'elasticnet', 'solver': 'saga', 'l1_ratio': 0.020879826497467058, 'C': 0.44302909351263015} , Best Accuracy: 0.979\n",
      "Fold #10; Best Parameter: {'penalty': 'elasticnet', 'solver': 'saga', 'l1_ratio': 0.04062502124414279, 'C': 0.5063297086779788} , Best Accuracy: 0.981\n"
     ]
    }
   ],
   "source": [
    "optuna.logging.disable_default_handler()\n",
    "import warnings\n",
    "warnings.simplefilter('ignore')\n",
    "# 外側ループのための交差検証用データ生成インスタンス\n",
    "kfold = StratifiedKFold(n_splits=10, shuffle=True, random_state=1)\n",
    "\n",
    "acc_trn_list = []  #外側ループのfold毎の学習データに対するaccuracy格納用\n",
    "acc_tst_list = []  #外側ループのfold毎のテストデータに対するaccuracy格納用\n",
    "\n",
    "\n",
    "k=0\n",
    "# 内側ループのグリッドサーチ\n",
    "for train_itr, test_itr in kfold.split(X, y):\n",
    "    X_train,y_train = X[train_itr],y[train_itr]\n",
    "    f = partial(objective, X_train, y_train)\n",
    "    study = optuna.create_study(direction = 'maximize')\n",
    "    study.optimize(f, n_trials = 500)\n",
    "    print('Fold #{:2d}; Best Parameter: {} , Best Accuracy: {:.3}'.format(k+1,study.best_params, study.best_value))\n",
    "    model = LogisticRegression(**study.best_params)\n",
    "    #学習されたハイパーパラメータで訓練，テスト誤差を評価\n",
    "    model.fit(X_train, y_train)\n",
    "    acc_trn_list.append(accuracy_score(model.predict(X_train), y_train))\n",
    "    acc_tst_list.append(accuracy_score(model.predict(X[test_itr]), y[test_itr]))\n",
    "    k=k+1"
   ]
  },
  {
   "cell_type": "markdown",
   "metadata": {},
   "source": [
    "## 平均Accuracy"
   ]
  },
  {
   "cell_type": "code",
   "execution_count": 15,
   "metadata": {},
   "outputs": [
    {
     "name": "stdout",
     "output_type": "stream",
     "text": [
      "Training data: 0.987\n",
      "Test data: 0.975\n"
     ]
    }
   ],
   "source": [
    "print('Training data: %1.3f' % np.mean(acc_trn_list))\n",
    "print('Test data: %1.3f' % np.mean(acc_tst_list))"
   ]
  },
  {
   "cell_type": "markdown",
   "metadata": {},
   "source": [
    "結果として上でのSVM(rbf+optunaを除く)よりも良い性能が得られた．  \n",
    "従って今回用いたデータについては線形モデルでも十分高性能を出せるような比較的非線形性の強くないデータであることが確認できた．  \n",
    "CVの結果から，l2正則化項かl1正則化項どちらを選べば良いのかは難しい問題ではあるが，どちらも満遍なく選択されているのでFold6の結果にあるようにelastic net で配合率を50%にしておけばある程度のデータのばらつきがあったとしても良い性能を出すことが予想できる．"
   ]
  }
 ],
 "metadata": {
  "kernelspec": {
   "display_name": "Python 3",
   "language": "python",
   "name": "python3"
  },
  "language_info": {
   "codemirror_mode": {
    "name": "ipython",
    "version": 3
   },
   "file_extension": ".py",
   "mimetype": "text/x-python",
   "name": "python",
   "nbconvert_exporter": "python",
   "pygments_lexer": "ipython3",
   "version": "3.8.5"
  }
 },
 "nbformat": 4,
 "nbformat_minor": 4
}
