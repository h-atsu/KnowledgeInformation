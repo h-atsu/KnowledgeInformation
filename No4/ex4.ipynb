{
 "cells": [
  {
   "cell_type": "markdown",
   "metadata": {},
   "source": [
    "## 知識情報学第4回サンプルプログラム ex4.ipynb\n",
    "- Programmed by Nattapong Thammasan, 監修　福井健一\n",
    "- Last updated: 2021/10/26\n",
    "- Checked with Python 3.8.8, scikit-learn 1.0\n",
    "- MIT License\n",
    "\n",
    "## ゴルフプレイデータのナイーブベイズ分類器による識別とROC,AUCによる評価\n",
    "- データweather.nominal.arffは本プログラムと同じフォルダ内に置いておく"
   ]
  },
  {
   "cell_type": "code",
   "execution_count": 1,
   "metadata": {},
   "outputs": [],
   "source": [
    "%matplotlib inline\n",
    "import numpy as np\n",
    "from scipy.io import arff\n",
    "from sklearn.preprocessing import LabelEncoder\n",
    "from sklearn.model_selection import LeaveOneOut\n",
    "from sklearn.metrics import roc_curve,roc_auc_score,auc\n",
    "from sklearn.naive_bayes import CategoricalNB\n",
    "import matplotlib.pyplot as plt\n",
    "import pandas as pd"
   ]
  },
  {
   "cell_type": "markdown",
   "metadata": {},
   "source": [
    "### arffデータの読み込み"
   ]
  },
  {
   "cell_type": "code",
   "execution_count": 2,
   "metadata": {},
   "outputs": [
    {
     "data": {
      "text/plain": [
       "(array([(b'sunny', b'hot', b'high', b'FALSE', b'no'),\n",
       "        (b'sunny', b'hot', b'high', b'TRUE', b'no'),\n",
       "        (b'overcast', b'hot', b'high', b'FALSE', b'yes'),\n",
       "        (b'rainy', b'mild', b'high', b'FALSE', b'yes'),\n",
       "        (b'rainy', b'cool', b'normal', b'FALSE', b'yes'),\n",
       "        (b'rainy', b'cool', b'normal', b'TRUE', b'no'),\n",
       "        (b'overcast', b'cool', b'normal', b'TRUE', b'yes'),\n",
       "        (b'sunny', b'mild', b'high', b'FALSE', b'no'),\n",
       "        (b'sunny', b'cool', b'normal', b'FALSE', b'yes'),\n",
       "        (b'rainy', b'mild', b'normal', b'FALSE', b'yes'),\n",
       "        (b'sunny', b'mild', b'normal', b'TRUE', b'yes'),\n",
       "        (b'overcast', b'mild', b'high', b'TRUE', b'yes'),\n",
       "        (b'overcast', b'hot', b'normal', b'FALSE', b'yes'),\n",
       "        (b'rainy', b'mild', b'high', b'TRUE', b'no')],\n",
       "       dtype=[('outlook', 'S8'), ('temperature', 'S4'), ('humidity', 'S6'), ('windy', 'S5'), ('play', 'S3')]),\n",
       " Dataset: weather.symbolic\n",
       " \toutlook's type is nominal, range is ('sunny', 'overcast', 'rainy')\n",
       " \ttemperature's type is nominal, range is ('hot', 'mild', 'cool')\n",
       " \thumidity's type is nominal, range is ('high', 'normal')\n",
       " \twindy's type is nominal, range is ('TRUE', 'FALSE')\n",
       " \tplay's type is nominal, range is ('yes', 'no'))"
      ]
     },
     "execution_count": 2,
     "metadata": {},
     "output_type": "execute_result"
    }
   ],
   "source": [
    "f = open(\"weather.nominal.arff\", \"r\", encoding=\"utf-8\")\n",
    "data, meta = arff.loadarff(f)\n",
    "data, meta"
   ]
  },
  {
   "cell_type": "code",
   "execution_count": 3,
   "metadata": {},
   "outputs": [
    {
     "data": {
      "text/plain": [
       "14"
      ]
     },
     "execution_count": 3,
     "metadata": {},
     "output_type": "execute_result"
    }
   ],
   "source": [
    "#dataの数\n",
    "len(data)"
   ]
  },
  {
   "cell_type": "code",
   "execution_count": 4,
   "metadata": {},
   "outputs": [],
   "source": [
    "df = pd.DataFrame(data)"
   ]
  },
  {
   "cell_type": "code",
   "execution_count": 5,
   "metadata": {},
   "outputs": [
    {
     "data": {
      "text/html": [
       "<div>\n",
       "<style scoped>\n",
       "    .dataframe tbody tr th:only-of-type {\n",
       "        vertical-align: middle;\n",
       "    }\n",
       "\n",
       "    .dataframe tbody tr th {\n",
       "        vertical-align: top;\n",
       "    }\n",
       "\n",
       "    .dataframe thead th {\n",
       "        text-align: right;\n",
       "    }\n",
       "</style>\n",
       "<table border=\"1\" class=\"dataframe\">\n",
       "  <thead>\n",
       "    <tr style=\"text-align: right;\">\n",
       "      <th></th>\n",
       "      <th>outlook</th>\n",
       "      <th>temperature</th>\n",
       "      <th>humidity</th>\n",
       "      <th>windy</th>\n",
       "      <th>play</th>\n",
       "    </tr>\n",
       "  </thead>\n",
       "  <tbody>\n",
       "    <tr>\n",
       "      <th>0</th>\n",
       "      <td>b'sunny'</td>\n",
       "      <td>b'hot'</td>\n",
       "      <td>b'high'</td>\n",
       "      <td>b'FALSE'</td>\n",
       "      <td>b'no'</td>\n",
       "    </tr>\n",
       "    <tr>\n",
       "      <th>1</th>\n",
       "      <td>b'sunny'</td>\n",
       "      <td>b'hot'</td>\n",
       "      <td>b'high'</td>\n",
       "      <td>b'TRUE'</td>\n",
       "      <td>b'no'</td>\n",
       "    </tr>\n",
       "    <tr>\n",
       "      <th>2</th>\n",
       "      <td>b'overcast'</td>\n",
       "      <td>b'hot'</td>\n",
       "      <td>b'high'</td>\n",
       "      <td>b'FALSE'</td>\n",
       "      <td>b'yes'</td>\n",
       "    </tr>\n",
       "    <tr>\n",
       "      <th>3</th>\n",
       "      <td>b'rainy'</td>\n",
       "      <td>b'mild'</td>\n",
       "      <td>b'high'</td>\n",
       "      <td>b'FALSE'</td>\n",
       "      <td>b'yes'</td>\n",
       "    </tr>\n",
       "    <tr>\n",
       "      <th>4</th>\n",
       "      <td>b'rainy'</td>\n",
       "      <td>b'cool'</td>\n",
       "      <td>b'normal'</td>\n",
       "      <td>b'FALSE'</td>\n",
       "      <td>b'yes'</td>\n",
       "    </tr>\n",
       "    <tr>\n",
       "      <th>5</th>\n",
       "      <td>b'rainy'</td>\n",
       "      <td>b'cool'</td>\n",
       "      <td>b'normal'</td>\n",
       "      <td>b'TRUE'</td>\n",
       "      <td>b'no'</td>\n",
       "    </tr>\n",
       "    <tr>\n",
       "      <th>6</th>\n",
       "      <td>b'overcast'</td>\n",
       "      <td>b'cool'</td>\n",
       "      <td>b'normal'</td>\n",
       "      <td>b'TRUE'</td>\n",
       "      <td>b'yes'</td>\n",
       "    </tr>\n",
       "    <tr>\n",
       "      <th>7</th>\n",
       "      <td>b'sunny'</td>\n",
       "      <td>b'mild'</td>\n",
       "      <td>b'high'</td>\n",
       "      <td>b'FALSE'</td>\n",
       "      <td>b'no'</td>\n",
       "    </tr>\n",
       "    <tr>\n",
       "      <th>8</th>\n",
       "      <td>b'sunny'</td>\n",
       "      <td>b'cool'</td>\n",
       "      <td>b'normal'</td>\n",
       "      <td>b'FALSE'</td>\n",
       "      <td>b'yes'</td>\n",
       "    </tr>\n",
       "    <tr>\n",
       "      <th>9</th>\n",
       "      <td>b'rainy'</td>\n",
       "      <td>b'mild'</td>\n",
       "      <td>b'normal'</td>\n",
       "      <td>b'FALSE'</td>\n",
       "      <td>b'yes'</td>\n",
       "    </tr>\n",
       "    <tr>\n",
       "      <th>10</th>\n",
       "      <td>b'sunny'</td>\n",
       "      <td>b'mild'</td>\n",
       "      <td>b'normal'</td>\n",
       "      <td>b'TRUE'</td>\n",
       "      <td>b'yes'</td>\n",
       "    </tr>\n",
       "    <tr>\n",
       "      <th>11</th>\n",
       "      <td>b'overcast'</td>\n",
       "      <td>b'mild'</td>\n",
       "      <td>b'high'</td>\n",
       "      <td>b'TRUE'</td>\n",
       "      <td>b'yes'</td>\n",
       "    </tr>\n",
       "    <tr>\n",
       "      <th>12</th>\n",
       "      <td>b'overcast'</td>\n",
       "      <td>b'hot'</td>\n",
       "      <td>b'normal'</td>\n",
       "      <td>b'FALSE'</td>\n",
       "      <td>b'yes'</td>\n",
       "    </tr>\n",
       "    <tr>\n",
       "      <th>13</th>\n",
       "      <td>b'rainy'</td>\n",
       "      <td>b'mild'</td>\n",
       "      <td>b'high'</td>\n",
       "      <td>b'TRUE'</td>\n",
       "      <td>b'no'</td>\n",
       "    </tr>\n",
       "  </tbody>\n",
       "</table>\n",
       "</div>"
      ],
      "text/plain": [
       "        outlook temperature   humidity     windy    play\n",
       "0      b'sunny'      b'hot'    b'high'  b'FALSE'   b'no'\n",
       "1      b'sunny'      b'hot'    b'high'   b'TRUE'   b'no'\n",
       "2   b'overcast'      b'hot'    b'high'  b'FALSE'  b'yes'\n",
       "3      b'rainy'     b'mild'    b'high'  b'FALSE'  b'yes'\n",
       "4      b'rainy'     b'cool'  b'normal'  b'FALSE'  b'yes'\n",
       "5      b'rainy'     b'cool'  b'normal'   b'TRUE'   b'no'\n",
       "6   b'overcast'     b'cool'  b'normal'   b'TRUE'  b'yes'\n",
       "7      b'sunny'     b'mild'    b'high'  b'FALSE'   b'no'\n",
       "8      b'sunny'     b'cool'  b'normal'  b'FALSE'  b'yes'\n",
       "9      b'rainy'     b'mild'  b'normal'  b'FALSE'  b'yes'\n",
       "10     b'sunny'     b'mild'  b'normal'   b'TRUE'  b'yes'\n",
       "11  b'overcast'     b'mild'    b'high'   b'TRUE'  b'yes'\n",
       "12  b'overcast'      b'hot'  b'normal'  b'FALSE'  b'yes'\n",
       "13     b'rainy'     b'mild'    b'high'   b'TRUE'   b'no'"
      ]
     },
     "execution_count": 5,
     "metadata": {},
     "output_type": "execute_result"
    }
   ],
   "source": [
    "df.head(14)"
   ]
  },
  {
   "cell_type": "markdown",
   "metadata": {},
   "source": [
    "### LabelEncoderを使ってラベル特徴を数値に変換\n",
    "例えば，変数outlookの値{sunny, overcast, rainy}は，{0,1,2}に変換される"
   ]
  },
  {
   "cell_type": "code",
   "execution_count": 6,
   "metadata": {},
   "outputs": [
    {
     "name": "stdout",
     "output_type": "stream",
     "text": [
      "[2. 1. 0. 0.] 0.0\n",
      "[2. 1. 0. 1.] 0.0\n",
      "[0. 1. 0. 0.] 1.0\n",
      "[1. 2. 0. 0.] 1.0\n",
      "[1. 0. 1. 0.] 1.0\n",
      "[1. 0. 1. 1.] 0.0\n",
      "[0. 0. 1. 1.] 1.0\n",
      "[2. 2. 0. 0.] 0.0\n",
      "[2. 0. 1. 0.] 1.0\n",
      "[1. 2. 1. 0.] 1.0\n",
      "[2. 2. 1. 1.] 1.0\n",
      "[0. 2. 0. 1.] 1.0\n",
      "[0. 1. 1. 0.] 1.0\n",
      "[1. 2. 0. 1.] 0.0\n"
     ]
    }
   ],
   "source": [
    "le = [LabelEncoder(), LabelEncoder(), LabelEncoder(), LabelEncoder(),LabelEncoder()]\n",
    "for idx,attr in enumerate(meta):\n",
    "    le[idx].fit(list(meta[attr][1]))\n",
    "\n",
    "class_array = np.array([])\n",
    "feature_array = np.zeros((0,4))\n",
    "\n",
    "for x in data:\n",
    "    w = list(x)\n",
    "    class_array = np.append(class_array, le[-1].transform(w[-1].decode(\"utf-8\").split()))\n",
    "    w.pop(-1)\n",
    "    for idx in range(0, len(w)):\n",
    "        w[idx] = le[idx].transform(w[idx].decode(\"utf-8\").split())\n",
    "    temp = np.array(w)\n",
    "    feature_array = np.append(feature_array, np.ravel(temp).reshape(1,-1), axis=0)\n",
    "\n",
    "for i,j in zip(feature_array, class_array):\n",
    "    print(i,j)"
   ]
  },
  {
   "cell_type": "markdown",
   "metadata": {},
   "source": [
    "### 1つ抜き交差検証（Leave-one-out cross-validation）\n",
    "全N個のデータから1個を除いた(N-1)個を学習データとしてモデルを学習し，残りの1個でテストを行う．これをN回繰り返す．\n",
    "- 【課題2】スムージングパラメータalphaを変更してみましょう．\n",
    "- 【課題3】事前確率class_priorを変更してみましょう．"
   ]
  },
  {
   "cell_type": "code",
   "execution_count": 7,
   "metadata": {},
   "outputs": [
    {
     "name": "stdout",
     "output_type": "stream",
     "text": [
      "True Label: [0.]\n",
      "Posterior Probability: [[0.31989425 0.68010575]]\n",
      "True Label: [0.]\n",
      "Posterior Probability: [[0.55251142 0.44748858]]\n",
      "True Label: [1.]\n",
      "Posterior Probability: [[0.23161973 0.76838027]]\n",
      "True Label: [1.]\n",
      "Posterior Probability: [[0.37612215 0.62387785]]\n",
      "True Label: [1.]\n",
      "Posterior Probability: [[0.0968031 0.9031969]]\n",
      "True Label: [0.]\n",
      "Posterior Probability: [[0.03201341 0.96798659]]\n",
      "True Label: [1.]\n",
      "Posterior Probability: [[0.06668724 0.93331276]]\n",
      "True Label: [0.]\n",
      "Posterior Probability: [[0.22010005 0.77989995]]\n",
      "True Label: [1.]\n",
      "Posterior Probability: [[0.17651864 0.82348136]]\n",
      "True Label: [1.]\n",
      "Posterior Probability: [[0.10760147 0.89239853]]\n",
      "True Label: [1.]\n",
      "Posterior Probability: [[0.3913831 0.6086169]]\n",
      "True Label: [1.]\n",
      "Posterior Probability: [[0.28669181 0.71330819]]\n",
      "True Label: [1.]\n",
      "Posterior Probability: [[0.05685983 0.94314017]]\n",
      "True Label: [0.]\n",
      "Posterior Probability: [[0.27029039 0.72970961]]\n"
     ]
    }
   ],
   "source": [
    "y_train_post_list,y_train_list,y_test_post_list,y_test_list = [],[],[],[]\n",
    "\n",
    "loo = LeaveOneOut()\n",
    "for train_index, test_index in loo.split(feature_array):\n",
    "    X_train, X_test = feature_array[train_index], feature_array[test_index]\n",
    "    y_train, y_test = class_array[train_index], class_array[test_index]\n",
    "\n",
    "    # =====================================================================\n",
    "    # 課題1(a) ナイーブベイズ分類器のインスタンスを生成し，学習データに適合させる．\n",
    "    # カテゴリカルナイーブベイズ（CategoricalNB）を使用する．\n",
    "    # https://scikit-learn.org/stable/modules/generated/sklearn.naive_bayes.CategoricalNB.html#sklearn.naive_bayes.CategoricalNB\n",
    "    # alpha(>0)はスムージングのパラメータ．\n",
    "    # fit_prior=Trueに指定すると学習データから事前確率を求める．\n",
    "    # class_priorは，class_prior=[0.2,0.8]の形で事前確率を指定する．fit_prior=Falseのときに有効．\n",
    "    \n",
    "    clf_nb = CategoricalNB(class_prior = [0.2,0.8])\n",
    "    clf_nb.fit(X_train,y_train)    \n",
    "\n",
    "    # =====================================================================\n",
    "    # 課題1(b) 学習データとテストデータに対する各クラスの事後確率を算出\n",
    "    # 学習データとテストデータに対する各クラスの事後確率を算出\n",
    "    posterior_trn = clf_nb.predict_proba(X_train)\n",
    "    posterior_tst = clf_nb.predict_proba(X_test)\n",
    "\n",
    "    # テストデータの正解クラスと事後確率を出力\n",
    "    print(\"True Label:\", y_test)\n",
    "    print(\"Posterior Probability:\", posterior_tst)\n",
    "\n",
    "    # 正解クラスと事後確率を保存\n",
    "    y_train_post_list.extend(posterior_trn[:,[1]])\n",
    "    y_train_list.extend(y_train)\n",
    "    y_test_post_list.append(posterior_tst[0][1])\n",
    "    y_test_list.extend(y_test)"
   ]
  },
  {
   "cell_type": "markdown",
   "metadata": {},
   "source": [
    "### ROC曲線の描画とAUCの算出\n",
    "- roc_curve\n",
    "    - https://scikit-learn.org/stable/modules/generated/sklearn.metrics.roc_curve.html#sklearn.metrics.roc_curve\n",
    "- roc_auc_score\n",
    "    - https://scikit-learn.org/stable/modules/generated/sklearn.metrics.roc_auc_score.html#sklearn.metrics.roc_auc_score\n",
    "- auc\n",
    "    - 関数roc_auc_scoreの代わりに関数aucを使用してもよい\n",
    "    - https://scikit-learn.org/stable/modules/generated/sklearn.metrics.auc.html#sklearn.metrics.auc"
   ]
  },
  {
   "cell_type": "code",
   "execution_count": 8,
   "metadata": {},
   "outputs": [
    {
     "data": {
      "image/png": "[encoded data removed]",
      "text/plain": [
       "<Figure size 432x288 with 1 Axes>"
      ]
     },
     "metadata": {
      "needs_background": "light"
     },
     "output_type": "display_data"
    }
   ],
   "source": [
    "# 課題1(c) 学習データおよびテストデータに対するROC曲線の描画とAUCを算出する\n",
    "\n",
    "# false positive rate, true positionve rate の計算\n",
    "fpr_train, tpr_train, threshold_train = roc_curve(y_train_list, y_train_post_list)\n",
    "fpr_test, tpr_test, threshold_test = roc_curve(y_test_list, y_test_post_list)\n",
    "\n",
    "# AUC score の計算\n",
    "auc_train = roc_auc_score(y_train_list, y_train_post_list)\n",
    "auc_test = roc_auc_score(y_test_list, y_test_post_list)\n",
    "\n",
    "plt.plot(fpr_train, tpr_train, label = f'ROC for training data(AUC = {auc_train:.4})')\n",
    "plt.plot(fpr_test, tpr_test, label = f'ROC for test data(AUC = {auc_test:.4})')\n",
    "\n",
    "plt.xlim([-0.05, 1.05])\n",
    "plt.ylim([-0.05, 1.05])\n",
    "plt.xlabel('False Positive Rate')\n",
    "plt.ylabel('True Positive Rate')\n",
    "plt.title('Receiver operating characteristic example')\n",
    "plt.legend(loc=\"lower right\")\n",
    "\n",
    "plt.show()"
   ]
  },
  {
   "cell_type": "markdown",
   "metadata": {},
   "source": [
    "## 課題4-2 スムージングパラメータ $\\alpha$ を変更して考察"
   ]
  },
  {
   "cell_type": "markdown",
   "metadata": {},
   "source": [
    "まず，スムージングパラメータ $\\alpha$ は事後確率分布を計算する際の尤度計算の時に現れる．  \n",
    "以下はスムージングパラメータを含めた尤度の計算式である．\n",
    "$$\n",
    "P\\left(x_{j} \\mid w_{i}\\right)=\\frac{n_{i j}+\\alpha}{n_{i}+\\alpha m_{j}}\n",
    "$$\n"
   ]
  },
  {
   "cell_type": "markdown",
   "metadata": {},
   "source": [
    "ここで, $x_j$は観測された(入力となる特徴量)データの$j$番目特徴量であり，$w_i$は$j$番目特徴量のとりうる$i$番目クラスという意味である．  \n",
    "$m_j$は$j$番目特徴量がとりうるクラスの数，　$n_i$はクラス$w_i$の出現回数, $n_{ij}$はクラス$w_i$のうち値$x_j$を取るものの出現回数を表す．"
   ]
  },
  {
   "cell_type": "markdown",
   "metadata": {},
   "source": [
    "計算式より$\\alpha$が大きくなるにつれて$P\\left(x_{j} \\mid w_{i}\\right)$の値は$1/m_j$に近づいていくことがわかる． \n",
    "つまり，$\\alpha$の増加に伴って$w_i$のクラスのうちありうる全ての実現値が等確率で実現するというようなモデルに近づいていく． "
   ]
  },
  {
   "cell_type": "markdown",
   "metadata": {},
   "source": [
    "まずは$\\alpha = 0$ の時について考える"
   ]
  },
  {
   "cell_type": "code",
   "execution_count": 9,
   "metadata": {},
   "outputs": [
    {
     "name": "stdout",
     "output_type": "stream",
     "text": [
      "True Label: [0.]\n",
      "Posterior Probability: [[0.34808213 0.65191787]]\n",
      "True Label: [0.]\n",
      "Posterior Probability: [[0.68109623 0.31890377]]\n",
      "True Label: [1.]\n",
      "Posterior Probability: [[8.73813333e-11 1.00000000e+00]]\n",
      "True Label: [1.]\n",
      "Posterior Probability: [[0.46632891 0.53367109]]\n",
      "True Label: [1.]\n",
      "Posterior Probability: [[0.0615052 0.9384948]]\n",
      "True Label: [0.]\n",
      "Posterior Probability: [[7.91015625e-22 1.00000000e+00]]\n",
      "True Label: [1.]\n",
      "Posterior Probability: [[8.192e-12 1.000e+00]]\n",
      "True Label: [0.]\n",
      "Posterior Probability: [[0.21071394 0.78928606]]\n",
      "True Label: [1.]\n",
      "Posterior Probability: [[0.16430443 0.83569557]]\n",
      "True Label: [1.]\n",
      "Posterior Probability: [[0.08035942 0.91964058]]\n",
      "True Label: [1.]\n",
      "Posterior Probability: [[0.49572374 0.50427626]]\n",
      "True Label: [1.]\n",
      "Posterior Probability: [[1.09226667e-10 1.00000000e+00]]\n",
      "True Label: [1.]\n",
      "Posterior Probability: [[8.73813333e-12 1.00000000e+00]]\n",
      "True Label: [0.]\n",
      "Posterior Probability: [[0.2625135 0.7374865]]\n"
     ]
    },
    {
     "name": "stderr",
     "output_type": "stream",
     "text": [
      "/opt/anaconda3/lib/python3.8/site-packages/sklearn/naive_bayes.py:508: UserWarning: alpha too small will result in numeric errors, setting alpha = 1.0e-10\n",
      "  warnings.warn('alpha too small will result in numeric errors, '\n",
      "/opt/anaconda3/lib/python3.8/site-packages/sklearn/naive_bayes.py:508: UserWarning: alpha too small will result in numeric errors, setting alpha = 1.0e-10\n",
      "  warnings.warn('alpha too small will result in numeric errors, '\n",
      "/opt/anaconda3/lib/python3.8/site-packages/sklearn/naive_bayes.py:508: UserWarning: alpha too small will result in numeric errors, setting alpha = 1.0e-10\n",
      "  warnings.warn('alpha too small will result in numeric errors, '\n",
      "/opt/anaconda3/lib/python3.8/site-packages/sklearn/naive_bayes.py:508: UserWarning: alpha too small will result in numeric errors, setting alpha = 1.0e-10\n",
      "  warnings.warn('alpha too small will result in numeric errors, '\n",
      "/opt/anaconda3/lib/python3.8/site-packages/sklearn/naive_bayes.py:508: UserWarning: alpha too small will result in numeric errors, setting alpha = 1.0e-10\n",
      "  warnings.warn('alpha too small will result in numeric errors, '\n",
      "/opt/anaconda3/lib/python3.8/site-packages/sklearn/naive_bayes.py:508: UserWarning: alpha too small will result in numeric errors, setting alpha = 1.0e-10\n",
      "  warnings.warn('alpha too small will result in numeric errors, '\n",
      "/opt/anaconda3/lib/python3.8/site-packages/sklearn/naive_bayes.py:508: UserWarning: alpha too small will result in numeric errors, setting alpha = 1.0e-10\n",
      "  warnings.warn('alpha too small will result in numeric errors, '\n",
      "/opt/anaconda3/lib/python3.8/site-packages/sklearn/naive_bayes.py:508: UserWarning: alpha too small will result in numeric errors, setting alpha = 1.0e-10\n",
      "  warnings.warn('alpha too small will result in numeric errors, '\n",
      "/opt/anaconda3/lib/python3.8/site-packages/sklearn/naive_bayes.py:508: UserWarning: alpha too small will result in numeric errors, setting alpha = 1.0e-10\n",
      "  warnings.warn('alpha too small will result in numeric errors, '\n",
      "/opt/anaconda3/lib/python3.8/site-packages/sklearn/naive_bayes.py:508: UserWarning: alpha too small will result in numeric errors, setting alpha = 1.0e-10\n",
      "  warnings.warn('alpha too small will result in numeric errors, '\n",
      "/opt/anaconda3/lib/python3.8/site-packages/sklearn/naive_bayes.py:508: UserWarning: alpha too small will result in numeric errors, setting alpha = 1.0e-10\n",
      "  warnings.warn('alpha too small will result in numeric errors, '\n",
      "/opt/anaconda3/lib/python3.8/site-packages/sklearn/naive_bayes.py:508: UserWarning: alpha too small will result in numeric errors, setting alpha = 1.0e-10\n",
      "  warnings.warn('alpha too small will result in numeric errors, '\n",
      "/opt/anaconda3/lib/python3.8/site-packages/sklearn/naive_bayes.py:508: UserWarning: alpha too small will result in numeric errors, setting alpha = 1.0e-10\n",
      "  warnings.warn('alpha too small will result in numeric errors, '\n",
      "/opt/anaconda3/lib/python3.8/site-packages/sklearn/naive_bayes.py:508: UserWarning: alpha too small will result in numeric errors, setting alpha = 1.0e-10\n",
      "  warnings.warn('alpha too small will result in numeric errors, '\n"
     ]
    },
    {
     "data": {
      "image/png": "[encoded data removed]",
      "text/plain": [
       "<Figure size 432x288 with 1 Axes>"
      ]
     },
     "metadata": {
      "needs_background": "light"
     },
     "output_type": "display_data"
    }
   ],
   "source": [
    "y_train_post_list,y_train_list,y_test_post_list,y_test_list = [],[],[],[]\n",
    "\n",
    "loo = LeaveOneOut()\n",
    "for train_index, test_index in loo.split(feature_array):\n",
    "    X_train, X_test = feature_array[train_index], feature_array[test_index]\n",
    "    y_train, y_test = class_array[train_index], class_array[test_index]\n",
    "    \n",
    "    clf_nb = CategoricalNB(class_prior = [0.2,0.8], alpha = 0)\n",
    "    clf_nb.fit(X_train,y_train)    \n",
    "\n",
    "    posterior_trn = clf_nb.predict_proba(X_train)\n",
    "    posterior_tst = clf_nb.predict_proba(X_test)\n",
    "\n",
    "    # テストデータの正解クラスと事後確率を出力\n",
    "    print(\"True Label:\", y_test)\n",
    "    print(\"Posterior Probability:\", posterior_tst)\n",
    "\n",
    "    # 正解クラスと事後確率を保存\n",
    "    y_train_post_list.extend(posterior_trn[:,[1]])\n",
    "    y_train_list.extend(y_train)\n",
    "    y_test_post_list.append(posterior_tst[0][1])\n",
    "    y_test_list.extend(y_test)\n",
    "\n",
    "# false positive rate, true positionve rate の計算\n",
    "fpr_train, tpr_train, threshold_train = roc_curve(y_train_list, y_train_post_list)\n",
    "fpr_test, tpr_test, threshold_test = roc_curve(y_test_list, y_test_post_list)\n",
    "\n",
    "# AUC score の計算\n",
    "auc_train = roc_auc_score(y_train_list, y_train_post_list)\n",
    "auc_test = roc_auc_score(y_test_list, y_test_post_list)\n",
    "\n",
    "plt.plot(fpr_train, tpr_train, label = f'ROC for training data(AUC = {auc_train:.4})')\n",
    "plt.plot(fpr_test, tpr_test, label = f'ROC for test data(AUC = {auc_test:.4})')\n",
    "\n",
    "plt.xlim([-0.05, 1.05])\n",
    "plt.ylim([-0.05, 1.05])\n",
    "plt.xlabel('False Positive Rate')\n",
    "plt.ylabel('True Positive Rate')\n",
    "plt.title('Receiver operating characteristic example')\n",
    "plt.legend(loc=\"lower right\")\n",
    "\n",
    "plt.show()"
   ]
  },
  {
   "cell_type": "code",
   "execution_count": 10,
   "metadata": {},
   "outputs": [
    {
     "name": "stdout",
     "output_type": "stream",
     "text": [
      "feature       target\n",
      "[2. 1. 0. 0.] 0.0\n",
      "[2. 1. 0. 1.] 0.0\n",
      "[0. 1. 0. 0.] 1.0\n",
      "[1. 2. 0. 0.] 1.0\n",
      "[1. 0. 1. 0.] 1.0\n",
      "[1. 0. 1. 1.] 0.0\n",
      "[0. 0. 1. 1.] 1.0\n",
      "[2. 2. 0. 0.] 0.0\n",
      "[2. 0. 1. 0.] 1.0\n",
      "[1. 2. 1. 0.] 1.0\n",
      "[2. 2. 1. 1.] 1.0\n",
      "[0. 2. 0. 1.] 1.0\n",
      "[0. 1. 1. 0.] 1.0\n",
      "[1. 2. 0. 1.] 0.0\n"
     ]
    }
   ],
   "source": [
    "print('feature', '      target')\n",
    "for i,j in zip(feature_array, class_array):\n",
    "    print(i,j)"
   ]
  },
  {
   "cell_type": "markdown",
   "metadata": {},
   "source": [
    "上ではゼロ除算の可能性があるために警告が出てきている．  \n",
    "実際に上のデータの表より$P(0|w_2)$に関しては，そもそもクラス$0$データが存在しないため，アルゴリズムとして動かないことがわかる．  \n",
    "sklearnの実装上そのようなデータが存在する際には非常に小さい値でゼロ除算を阻止するような実装になっていることが上の警告文からわかる．   \n",
    "またテストデータに対するAUCの値は先程の$alpha = 1.0$よりも改善していることが確認できる"
   ]
  },
  {
   "cell_type": "markdown",
   "metadata": {},
   "source": [
    "次に極端に$\\alpha = 100$としてroc曲線を描く"
   ]
  },
  {
   "cell_type": "code",
   "execution_count": 11,
   "metadata": {},
   "outputs": [
    {
     "name": "stdout",
     "output_type": "stream",
     "text": [
      "True Label: [0.]\n",
      "Posterior Probability: [[0.20368672 0.79631328]]\n",
      "True Label: [0.]\n",
      "Posterior Probability: [[0.21001298 0.78998702]]\n",
      "True Label: [1.]\n",
      "Posterior Probability: [[0.20311499 0.79688501]]\n",
      "True Label: [1.]\n",
      "Posterior Probability: [[0.2047303 0.7952697]]\n",
      "True Label: [1.]\n",
      "Posterior Probability: [[0.19539288 0.80460712]]\n",
      "True Label: [0.]\n",
      "Posterior Probability: [[0.19428075 0.80571925]]\n",
      "True Label: [1.]\n",
      "Posterior Probability: [[0.19684092 0.80315908]]\n",
      "True Label: [0.]\n",
      "Posterior Probability: [[0.20055525 0.79944475]]\n",
      "True Label: [1.]\n",
      "Posterior Probability: [[0.19849404 0.80150596]]\n",
      "True Label: [1.]\n",
      "Posterior Probability: [[0.19540799 0.80459201]]\n",
      "True Label: [1.]\n",
      "Posterior Probability: [[0.20474565 0.79525435]]\n",
      "True Label: [1.]\n",
      "Posterior Probability: [[0.20622981 0.79377019]]\n",
      "True Label: [1.]\n",
      "Posterior Probability: [[0.1938483 0.8061517]]\n",
      "True Label: [0.]\n",
      "Posterior Probability: [[0.20361144 0.79638856]]\n"
     ]
    },
    {
     "data": {
      "image/png": "[encoded data removed]",
      "text/plain": [
       "<Figure size 432x288 with 1 Axes>"
      ]
     },
     "metadata": {
      "needs_background": "light"
     },
     "output_type": "display_data"
    }
   ],
   "source": [
    "y_train_post_list,y_train_list,y_test_post_list,y_test_list = [],[],[],[]\n",
    "\n",
    "loo = LeaveOneOut()\n",
    "for train_index, test_index in loo.split(feature_array):\n",
    "    X_train, X_test = feature_array[train_index], feature_array[test_index]\n",
    "    y_train, y_test = class_array[train_index], class_array[test_index]\n",
    "    \n",
    "    clf_nb = CategoricalNB(class_prior = [0.2,0.8], alpha = 100)\n",
    "    clf_nb.fit(X_train,y_train)    \n",
    "\n",
    "    posterior_trn = clf_nb.predict_proba(X_train)\n",
    "    posterior_tst = clf_nb.predict_proba(X_test)\n",
    "\n",
    "    # テストデータの正解クラスと事後確率を出力\n",
    "    print(\"True Label:\", y_test)\n",
    "    print(\"Posterior Probability:\", posterior_tst)\n",
    "\n",
    "    # 正解クラスと事後確率を保存\n",
    "    y_train_post_list.extend(posterior_trn[:,[1]])\n",
    "    y_train_list.extend(y_train)\n",
    "    y_test_post_list.append(posterior_tst[0][1])\n",
    "    y_test_list.extend(y_test)\n",
    "\n",
    "# false positive rate, true positionve rate の計算\n",
    "fpr_train, tpr_train, threshold_train = roc_curve(y_train_list, y_train_post_list)\n",
    "fpr_test, tpr_test, threshold_test = roc_curve(y_test_list, y_test_post_list)\n",
    "\n",
    "# AUC score の計算\n",
    "auc_train = roc_auc_score(y_train_list, y_train_post_list)\n",
    "auc_test = roc_auc_score(y_test_list, y_test_post_list)\n",
    "\n",
    "plt.plot(fpr_train, tpr_train, label = f'ROC for training data(AUC = {auc_train:.4})')\n",
    "plt.plot(fpr_test, tpr_test, label = f'ROC for test data(AUC = {auc_test:.4})')\n",
    "\n",
    "plt.xlim([-0.05, 1.05])\n",
    "plt.ylim([-0.05, 1.05])\n",
    "plt.xlabel('False Positive Rate')\n",
    "plt.ylabel('True Positive Rate')\n",
    "plt.title('Receiver operating characteristic example')\n",
    "plt.legend(loc=\"lower right\")\n",
    "\n",
    "plt.show()"
   ]
  },
  {
   "cell_type": "markdown",
   "metadata": {},
   "source": [
    "上ではどんな特徴量が入ってこようが全ての入力に対して同じ尤度を返してしまうので予測値はほぼ事前分布のままを出力することとなる．  \n",
    "上の表でもテストデータに対しての事後確率の出力値がほぼ[0.2, 0.8]で固定されていることが確認できる．  \n",
    "また，この時のテストデータに対するACUの値は上の二つの状況に比べて落ちていることが読み取れる．  \n",
    "これは，明らかに表現力が落ちていることよりも納得がいく．"
   ]
  },
  {
   "cell_type": "markdown",
   "metadata": {},
   "source": [
    "続いてスムージングパラメータ$\\alpha$の値に対してどのようにAUCの値が推移していくのかを図示する."
   ]
  },
  {
   "cell_type": "code",
   "execution_count": 12,
   "metadata": {},
   "outputs": [],
   "source": [
    "def ret_auc(alpha = 1.0, prior = [0.2,0.8]):\n",
    "    y_train_post_list,y_train_list,y_test_post_list,y_test_list = [],[],[],[]\n",
    "\n",
    "    loo = LeaveOneOut()\n",
    "    for train_index, test_index in loo.split(feature_array):\n",
    "        X_train, X_test = feature_array[train_index], feature_array[test_index]\n",
    "        y_train, y_test = class_array[train_index], class_array[test_index]\n",
    "\n",
    "        clf_nb = CategoricalNB(class_prior = prior, alpha = alpha)\n",
    "        clf_nb.fit(X_train,y_train)    \n",
    "\n",
    "        posterior_trn = clf_nb.predict_proba(X_train)\n",
    "        posterior_tst = clf_nb.predict_proba(X_test)\n",
    "\n",
    "        # テストデータの正解クラスと事後確率を出力\n",
    "#        print(\"True Label:\", y_test)\n",
    "#        print(\"Posterior Probability:\", posterior_tst)\n",
    "\n",
    "        # 正解クラスと事後確率を保存\n",
    "        y_train_post_list.extend(posterior_trn[:,[1]])\n",
    "        y_train_list.extend(y_train)\n",
    "        y_test_post_list.append(posterior_tst[0][1])\n",
    "        y_test_list.extend(y_test)\n",
    "\n",
    "    # false positive rate, true positionve rate の計算\n",
    "    fpr_train, tpr_train, threshold_train = roc_curve(y_train_list, y_train_post_list)\n",
    "    fpr_test, tpr_test, threshold_test = roc_curve(y_test_list, y_test_post_list)\n",
    "\n",
    "    # AUC score の計算\n",
    "    auc_train = roc_auc_score(y_train_list, y_train_post_list)\n",
    "    auc_test = roc_auc_score(y_test_list, y_test_post_list)\n",
    "    \n",
    "    return auc_train, auc_test"
   ]
  },
  {
   "cell_type": "code",
   "execution_count": 13,
   "metadata": {},
   "outputs": [],
   "source": [
    "alpha = list(range(100))\n",
    "auc_alpha = np.array([list(ret_auc(a+1e-10)) for a in alpha])"
   ]
  },
  {
   "cell_type": "code",
   "execution_count": 14,
   "metadata": {},
   "outputs": [
    {
     "data": {
      "text/plain": [
       "<matplotlib.legend.Legend at 0x7f8929304820>"
      ]
     },
     "execution_count": 14,
     "metadata": {},
     "output_type": "execute_result"
    },
    {
     "data": {
      "image/png": "[encoded data removed]",
      "text/plain": [
       "<Figure size 432x288 with 1 Axes>"
      ]
     },
     "metadata": {
      "needs_background": "light"
     },
     "output_type": "display_data"
    }
   ],
   "source": [
    "plt.plot(alpha, auc_alpha[:,0], label = 'train')\n",
    "plt.plot(alpha, auc_alpha[:,1], label = 'test')\n",
    "plt.ylim([0,1])\n",
    "plt.title('AUC value')\n",
    "plt.legend()"
   ]
  },
  {
   "cell_type": "markdown",
   "metadata": {},
   "source": [
    "グラフより今回のデータセットにおいては$alpha$の値は小さいほどよく2から10くらいの値ではテスト性能が著しく落ち，それ以降は上で見たようにほぼ事後分布を出力するようになり，一定値を取ることが読み取れる．  \n",
    "一般にはデータセットによって最適な$\\alpha$は異なるはずなので，ここで行ったようにクロスバリデーションなどによってそのデータセットにあった$alpha$を探索することが求められる．  "
   ]
  },
  {
   "cell_type": "markdown",
   "metadata": {},
   "source": [
    "## 課題4-3 事前確率の変化による性能の変化"
   ]
  },
  {
   "cell_type": "markdown",
   "metadata": {},
   "source": [
    "事前確率分布は[p, 1-p]として表せるので，これを0から1まで変化させたときにどのようなAUCの値を出すかの遷移を図示する"
   ]
  },
  {
   "cell_type": "code",
   "execution_count": 15,
   "metadata": {},
   "outputs": [],
   "source": [
    "prior = np.linspace(0+1e-10,1-1e-10,100)\n",
    "auc_prior = np.array([list(ret_auc(prior = [p, 1-p])) for p in prior])"
   ]
  },
  {
   "cell_type": "code",
   "execution_count": 16,
   "metadata": {},
   "outputs": [
    {
     "data": {
      "text/plain": [
       "<matplotlib.legend.Legend at 0x7f89089c4ee0>"
      ]
     },
     "execution_count": 16,
     "metadata": {},
     "output_type": "execute_result"
    },
    {
     "data": {
      "image/png": "[encoded data removed]",
      "text/plain": [
       "<Figure size 432x288 with 1 Axes>"
      ]
     },
     "metadata": {
      "needs_background": "light"
     },
     "output_type": "display_data"
    }
   ],
   "source": [
    "plt.plot(prior, auc_prior[:,0], label = 'train')\n",
    "plt.plot(prior, auc_prior[:,1], label = 'test')\n",
    "plt.ylim([0,1])\n",
    "plt.title('AUC value')\n",
    "plt.legend()"
   ]
  },
  {
   "cell_type": "markdown",
   "metadata": {},
   "source": [
    "上のグラフより，事前分布の値によってはAUCの値は変化しないことが読み取れる．  \n",
    "一方で正答率に関しては"
   ]
  },
  {
   "cell_type": "code",
   "execution_count": 17,
   "metadata": {},
   "outputs": [],
   "source": [
    "def ret_auc(alpha = 1.0, prior = [0.2,0.8]):\n",
    "    y_train_post_list,y_train_list,y_test_post_list,y_test_list = [],[],[],[]\n",
    "\n",
    "    loo = LeaveOneOut()\n",
    "    for train_index, test_index in loo.split(feature_array):\n",
    "        X_train, X_test = feature_array[train_index], feature_array[test_index]\n",
    "        y_train, y_test = class_array[train_index], class_array[test_index]\n",
    "\n",
    "        clf_nb = CategoricalNB(class_prior = prior, alpha = alpha)\n",
    "        clf_nb.fit(X_train,y_train)    \n",
    "\n",
    "        posterior_trn = clf_nb.predict(X_train)\n",
    "        posterior_tst = clf_nb.predict(X_test)\n",
    "\n",
    "        # テストデータの正解クラスと事後確率を出力\n",
    "#        print(\"True Label:\", y_test)\n",
    "#        print(\"Posterior Probability:\", posterior_tst)\n",
    "\n",
    "        # 正解クラスと事後確率を保存\n",
    "        y_train_post_list.extend(posterior_trn)\n",
    "        y_train_list.extend(y_train)\n",
    "        y_test_post_list.append(posterior_tst)\n",
    "        y_test_list.extend(y_test)\n",
    "    \n",
    "    a,b,c,d = np.array(y_train_post_list), np.array(y_train_list), np.array(y_test_post_list), np.array(y_test_list)\n",
    "    c = c.reshape(len(c))\n",
    "    return (a==b).sum() / len(a), (c==d).sum() / len(c)"
   ]
  },
  {
   "cell_type": "code",
   "execution_count": 18,
   "metadata": {},
   "outputs": [],
   "source": [
    "prior = np.linspace(0+1e-10,1-1e-10,100)\n",
    "auc_prior = np.array([list(ret_auc(prior = [p, 1-p])) for p in prior])"
   ]
  },
  {
   "cell_type": "code",
   "execution_count": 19,
   "metadata": {},
   "outputs": [
    {
     "data": {
      "text/plain": [
       "<matplotlib.legend.Legend at 0x7f89089d8940>"
      ]
     },
     "execution_count": 19,
     "metadata": {},
     "output_type": "execute_result"
    },
    {
     "data": {
      "image/png": "[encoded data removed]",
      "text/plain": [
       "<Figure size 432x288 with 1 Axes>"
      ]
     },
     "metadata": {
      "needs_background": "light"
     },
     "output_type": "display_data"
    }
   ],
   "source": [
    "plt.plot(prior, auc_prior[:,0], label = 'train')\n",
    "plt.plot(prior, auc_prior[:,1], label = 'test')\n",
    "#plt.ylim([0,1])\n",
    "plt.title('Accuracy')\n",
    "plt.legend()"
   ]
  },
  {
   "cell_type": "markdown",
   "metadata": {},
   "source": [
    "グラフより正答率に関しては事前分布が[0.4,0.6]あたりで良い性能を示しており，そこから遠ざかるにつれて正答率が下がっていくという結果が得られた．"
   ]
  },
  {
   "cell_type": "markdown",
   "metadata": {},
   "source": [
    "ここで今回のデータセットについて確認すると  \n",
    "ラベル 0 のデータ 5個  \n",
    "ラベル 1 のデータ 9個  "
   ]
  },
  {
   "cell_type": "markdown",
   "metadata": {},
   "source": [
    "となっており，事前分布は"
   ]
  },
  {
   "cell_type": "code",
   "execution_count": 20,
   "metadata": {},
   "outputs": [
    {
     "name": "stdout",
     "output_type": "stream",
     "text": [
      "[0.35714285714285715, 0.6428571428571429]\n"
     ]
    }
   ],
   "source": [
    "print([5/14,9/14])"
   ]
  },
  {
   "cell_type": "markdown",
   "metadata": {},
   "source": [
    "となり，　これはグラフにおいてp = 0.4付近において良い性能を示していることよりも合致している．  "
   ]
  },
  {
   "cell_type": "markdown",
   "metadata": {},
   "source": [
    "以上見てきたように特に理由がない場合やデータ数が十分多い場合には自分で事前分布を設定することなく学習データから事前分布を計算させるデフォルトの仕様に任せたほうが良いことが確認できた．  \n",
    "一方でデータ数が少ない場合や，何かしらのドメイン知識を有する場合は，事前分布にそれらの事前情報を考慮することで性能を向上させることができると予想される．  "
   ]
  }
 ],
 "metadata": {
  "kernelspec": {
   "display_name": "Python 3",
   "language": "python",
   "name": "python3"
  },
  "language_info": {
   "codemirror_mode": {
    "name": "ipython",
    "version": 3
   },
   "file_extension": ".py",
   "mimetype": "text/x-python",
   "name": "python",
   "nbconvert_exporter": "python",
   "pygments_lexer": "ipython3",
   "version": "3.8.5"
  }
 },
 "nbformat": 4,
 "nbformat_minor": 4
}
