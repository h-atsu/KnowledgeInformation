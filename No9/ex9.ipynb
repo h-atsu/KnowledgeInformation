{
 "cells": [
  {
   "cell_type": "markdown",
   "metadata": {},
   "source": [
    "## 知識情報学第9回演習サンプルプログラム ex9.ipynb\n",
    "- Programmed by Nattapong Thammasan, 監修　福井健一\n",
    "- Last updated: 2019/12/19\n",
    "- Checked with Python 3.8, scikit-learn 0.23.2\n",
    "- MIT License\n",
    "\n",
    "## Wineデータに対するアンサンブル学習による識別\n",
    "- 【課題2】アンサンブル数や木の最大深さを変更して，影響を考察しなさい．\n",
    " - 特徴量を工夫すると良い"
   ]
  },
  {
   "cell_type": "code",
   "execution_count": 1,
   "metadata": {},
   "outputs": [],
   "source": [
    "%matplotlib inline\n",
    "from functools import partial\n",
    "from sklearn import datasets\n",
    "import numpy as np\n",
    "from sklearn.model_selection import train_test_split, cross_validate\n",
    "from sklearn.tree import DecisionTreeClassifier\n",
    "from sklearn.decomposition import PCA\n",
    "from sklearn.preprocessing import scale\n",
    "from sklearn.ensemble import BaggingClassifier, AdaBoostClassifier,RandomForestClassifier, GradientBoostingClassifier\n",
    "from matplotlib.colors import ListedColormap\n",
    "import matplotlib.pyplot as plt\n",
    "\n",
    "# random state seed\n",
    "rs = 42"
   ]
  },
  {
   "cell_type": "markdown",
   "metadata": {},
   "source": [
    "### Wineデータの読み込み"
   ]
  },
  {
   "cell_type": "code",
   "execution_count": 2,
   "metadata": {},
   "outputs": [
    {
     "name": "stdout",
     "output_type": "stream",
     "text": [
      ".. _wine_dataset:\n",
      "\n",
      "Wine recognition dataset\n",
      "------------------------\n",
      "\n",
      "**Data Set Characteristics:**\n",
      "\n",
      "    :Number of Instances: 178 (50 in each of three classes)\n",
      "    :Number of Attributes: 13 numeric, predictive attributes and the class\n",
      "    :Attribute Information:\n",
      " \t\t- Alcohol\n",
      " \t\t- Malic acid\n",
      " \t\t- Ash\n",
      "\t\t- Alcalinity of ash  \n",
      " \t\t- Magnesium\n",
      "\t\t- Total phenols\n",
      " \t\t- Flavanoids\n",
      " \t\t- Nonflavanoid phenols\n",
      " \t\t- Proanthocyanins\n",
      "\t\t- Color intensity\n",
      " \t\t- Hue\n",
      " \t\t- OD280/OD315 of diluted wines\n",
      " \t\t- Proline\n",
      "\n",
      "    - class:\n",
      "            - class_0\n",
      "            - class_1\n",
      "            - class_2\n",
      "\t\t\n",
      "    :Summary Statistics:\n",
      "    \n",
      "    ============================= ==== ===== ======= =====\n",
      "                                   Min   Max   Mean     SD\n",
      "    ============================= ==== ===== ======= =====\n",
      "    Alcohol:                      11.0  14.8    13.0   0.8\n",
      "    Malic Acid:                   0.74  5.80    2.34  1.12\n",
      "    Ash:                          1.36  3.23    2.36  0.27\n",
      "    Alcalinity of Ash:            10.6  30.0    19.5   3.3\n",
      "    Magnesium:                    70.0 162.0    99.7  14.3\n",
      "    Total Phenols:                0.98  3.88    2.29  0.63\n",
      "    Flavanoids:                   0.34  5.08    2.03  1.00\n",
      "    Nonflavanoid Phenols:         0.13  0.66    0.36  0.12\n",
      "    Proanthocyanins:              0.41  3.58    1.59  0.57\n",
      "    Colour Intensity:              1.3  13.0     5.1   2.3\n",
      "    Hue:                          0.48  1.71    0.96  0.23\n",
      "    OD280/OD315 of diluted wines: 1.27  4.00    2.61  0.71\n",
      "    Proline:                       278  1680     746   315\n",
      "    ============================= ==== ===== ======= =====\n",
      "\n",
      "    :Missing Attribute Values: None\n",
      "    :Class Distribution: class_0 (59), class_1 (71), class_2 (48)\n",
      "    :Creator: R.A. Fisher\n",
      "    :Donor: Michael Marshall (MARSHALL%PLU@io.arc.nasa.gov)\n",
      "    :Date: July, 1988\n",
      "\n",
      "This is a copy of UCI ML Wine recognition datasets.\n",
      "https://archive.ics.uci.edu/ml/machine-learning-databases/wine/wine.data\n",
      "\n",
      "The data is the results of a chemical analysis of wines grown in the same\n",
      "region in Italy by three different cultivators. There are thirteen different\n",
      "measurements taken for different constituents found in the three types of\n",
      "wine.\n",
      "\n",
      "Original Owners: \n",
      "\n",
      "Forina, M. et al, PARVUS - \n",
      "An Extendible Package for Data Exploration, Classification and Correlation. \n",
      "Institute of Pharmaceutical and Food Analysis and Technologies,\n",
      "Via Brigata Salerno, 16147 Genoa, Italy.\n",
      "\n",
      "Citation:\n",
      "\n",
      "Lichman, M. (2013). UCI Machine Learning Repository\n",
      "[https://archive.ics.uci.edu/ml]. Irvine, CA: University of California,\n",
      "School of Information and Computer Science. \n",
      "\n",
      ".. topic:: References\n",
      "\n",
      "  (1) S. Aeberhard, D. Coomans and O. de Vel, \n",
      "  Comparison of Classifiers in High Dimensional Settings, \n",
      "  Tech. Rep. no. 92-02, (1992), Dept. of Computer Science and Dept. of  \n",
      "  Mathematics and Statistics, James Cook University of North Queensland. \n",
      "  (Also submitted to Technometrics). \n",
      "\n",
      "  The data was used with many others for comparing various \n",
      "  classifiers. The classes are separable, though only RDA \n",
      "  has achieved 100% correct classification. \n",
      "  (RDA : 100%, QDA 99.4%, LDA 98.9%, 1NN 96.1% (z-transformed data)) \n",
      "  (All results using the leave-one-out technique) \n",
      "\n",
      "  (2) S. Aeberhard, D. Coomans and O. de Vel, \n",
      "  \"THE CLASSIFICATION PERFORMANCE OF RDA\" \n",
      "  Tech. Rep. no. 92-01, (1992), Dept. of Computer Science and Dept. of \n",
      "  Mathematics and Statistics, James Cook University of North Queensland. \n",
      "  (Also submitted to Journal of Chemometrics).\n",
      "\n"
     ]
    }
   ],
   "source": [
    "wine = datasets.load_wine()\n",
    "print(wine.DESCR)"
   ]
  },
  {
   "cell_type": "code",
   "execution_count": 3,
   "metadata": {},
   "outputs": [],
   "source": [
    "X=scale(wine.data)\n",
    "y = wine.target"
   ]
  },
  {
   "cell_type": "code",
   "execution_count": 4,
   "metadata": {},
   "outputs": [],
   "source": [
    "# PCAで2次元に圧縮\n",
    "pca = PCA(n_components=2)\n",
    "X_pca= pca.fit_transform(X)"
   ]
  },
  {
   "cell_type": "markdown",
   "metadata": {},
   "source": [
    "### 識別境界面をプロットする関数"
   ]
  },
  {
   "cell_type": "code",
   "execution_count": 5,
   "metadata": {},
   "outputs": [],
   "source": [
    "x1_min, x1_max = X_pca[:, 0].min() - 0.5, X_pca[:, 0].max() + 0.5\n",
    "x2_min, x2_max = X_pca[:, 1].min() - 0.5, X_pca[:, 1].max() + 0.5\n",
    "xx1, xx2 = np.meshgrid(np.arange(x1_min, x1_max, 0.02),\n",
    "                           np.arange(x2_min, x2_max, 0.02))\n",
    "\n",
    "markers = ('s', 'x', 'o', '^', 'v')\n",
    "colors = ('red', 'blue', 'lightgreen', 'gray', 'cyan')\n",
    "cmap = ListedColormap(colors[:len(np.unique(y))])\n",
    "    \n",
    "def plot_decision_boundary(Z1, classifer_name):\n",
    "\n",
    "    Z1 = Z1.reshape(xx1.shape)\n",
    "\n",
    "    plt.contourf(xx1, xx2, Z1, alpha=0.5, cmap=cmap)\n",
    "    plt.xlim(xx1.min(), xx1.max())\n",
    "    plt.ylim(xx2.min(), xx2.max())\n",
    "\n",
    "    for idx, cl in enumerate(np.unique(y)):\n",
    "        plt.scatter(x=X_pca[y == cl, 0], y=X_pca[y == cl, 1],\n",
    "                    alpha=0.8, c=colors[idx],\n",
    "                    marker=markers[idx], label=cl)\n",
    "\n",
    "    plt.xlabel('pca1')\n",
    "    plt.ylabel('pca2')\n",
    "    plt.title(classifer_name)\n",
    "    \n",
    "    plt.show()"
   ]
  },
  {
   "cell_type": "markdown",
   "metadata": {},
   "source": [
    "### 決定木"
   ]
  },
  {
   "cell_type": "code",
   "execution_count": 6,
   "metadata": {},
   "outputs": [
    {
     "data": {
      "image/png": "[encoded data removed]",
      "text/plain": [
       "<Figure size 432x288 with 1 Axes>"
      ]
     },
     "metadata": {
      "needs_background": "light"
     },
     "output_type": "display_data"
    }
   ],
   "source": [
    "tree = DecisionTreeClassifier(criterion='entropy',\n",
    "                              max_depth=4,\n",
    "                              random_state=rs)\n",
    "\n",
    "tree.fit(X_pca, y)\n",
    "Z = tree.predict(np.array([xx1.ravel(), xx2.ravel()]).T)\n",
    "plot_decision_boundary(Z, 'Decision Tree')"
   ]
  },
  {
   "cell_type": "markdown",
   "metadata": {},
   "source": [
    "### 課題1(b) クロスバリデーションによる評価（学習データ，テストデータ）を追加"
   ]
  },
  {
   "cell_type": "code",
   "execution_count": 7,
   "metadata": {},
   "outputs": [],
   "source": [
    "def cross_val(clf, cv = 5):\n",
    "    res = cross_validate(clf, X_pca, y, cv=cv, return_train_score=True)\n",
    "    train_score = res['train_score']\n",
    "    test_score = res['test_score']    \n",
    "    train_acc = sum(train_score) / len(train_score)\n",
    "    test_acc = sum(test_score) / len(test_score)\n",
    "    return train_acc, test_acc"
   ]
  },
  {
   "cell_type": "markdown",
   "metadata": {},
   "source": [
    "上でのナイーブな決定木のみの訓練性能，テスト性能は以下の通りである．"
   ]
  },
  {
   "cell_type": "code",
   "execution_count": 8,
   "metadata": {},
   "outputs": [
    {
     "name": "stdout",
     "output_type": "stream",
     "text": [
      "mean train accuracy : 0.987\n",
      "mean test accuracy  : 0.938\n"
     ]
    }
   ],
   "source": [
    "train_acc, test_acc = cross_val(tree)\n",
    "print(f'mean train accuracy : {train_acc:.03}')\n",
    "print(f'mean test accuracy  : {test_acc:.03}')"
   ]
  },
  {
   "cell_type": "markdown",
   "metadata": {},
   "source": [
    "### 課題1(a),(b) Bagging"
   ]
  },
  {
   "cell_type": "markdown",
   "metadata": {},
   "source": [
    "弱学習器の決定木のパラメータを変えると性能が変わるが，今回の実験では上の実験で作成した決定木と設定を共有することとする．  \n",
    "また，弱学習器は100本作ることとする．"
   ]
  },
  {
   "cell_type": "code",
   "execution_count": 9,
   "metadata": {},
   "outputs": [
    {
     "data": {
      "image/png": "[encoded data removed]",
      "text/plain": [
       "<Figure size 432x288 with 1 Axes>"
      ]
     },
     "metadata": {
      "needs_background": "light"
     },
     "output_type": "display_data"
    }
   ],
   "source": [
    "basis = DecisionTreeClassifier(criterion='entropy',max_depth=4,random_state=rs)\n",
    "clf = BaggingClassifier(basis, n_estimators=100,random_state=rs)\n",
    "clf.fit(X_pca, y)\n",
    "Z = clf.predict(np.array([xx1.ravel(), xx2.ravel()]).T)\n",
    "plot_decision_boundary(Z, 'Bagging classifier')"
   ]
  },
  {
   "cell_type": "code",
   "execution_count": 10,
   "metadata": {},
   "outputs": [
    {
     "name": "stdout",
     "output_type": "stream",
     "text": [
      "mean train accuracy : 0.994\n",
      "mean test accuracy  : 0.949\n"
     ]
    }
   ],
   "source": [
    "train_acc, test_acc = cross_val(clf)\n",
    "print(f'mean train accuracy : {train_acc:.03}')\n",
    "print(f'mean test accuracy  : {test_acc:.03}')"
   ]
  },
  {
   "cell_type": "markdown",
   "metadata": {},
   "source": [
    "### 課題1(a),(b) Random Forest"
   ]
  },
  {
   "cell_type": "code",
   "execution_count": 11,
   "metadata": {},
   "outputs": [
    {
     "data": {
      "image/png": "[encoded data removed]",
      "text/plain": [
       "<Figure size 432x288 with 1 Axes>"
      ]
     },
     "metadata": {
      "needs_background": "light"
     },
     "output_type": "display_data"
    }
   ],
   "source": [
    "clf = RandomForestClassifier(n_estimators=100,random_state=rs)\n",
    "clf.fit(X_pca, y)\n",
    "Z = clf.predict(np.array([xx1.ravel(), xx2.ravel()]).T)\n",
    "plot_decision_boundary(Z, 'Bagging classifier')"
   ]
  },
  {
   "cell_type": "code",
   "execution_count": 12,
   "metadata": {},
   "outputs": [
    {
     "name": "stdout",
     "output_type": "stream",
     "text": [
      "mean train accuracy : 1.0\n",
      "mean test accuracy  : 0.955\n"
     ]
    }
   ],
   "source": [
    "train_acc, test_acc = cross_val(clf)\n",
    "print(f'mean train accuracy : {train_acc:.03}')\n",
    "print(f'mean test accuracy  : {test_acc:.03}')"
   ]
  },
  {
   "cell_type": "markdown",
   "metadata": {},
   "source": [
    "### 課題1(a),(b) AdaBoost\n",
    "- scikit-learnのAdaBoostClassifierは，デフォルトのbase_estimatorがDecisionTreeClassifier(max_depth=1)のため注意"
   ]
  },
  {
   "cell_type": "code",
   "execution_count": 13,
   "metadata": {},
   "outputs": [
    {
     "data": {
      "image/png": "[encoded data removed]",
      "text/plain": [
       "<Figure size 432x288 with 1 Axes>"
      ]
     },
     "metadata": {
      "needs_background": "light"
     },
     "output_type": "display_data"
    }
   ],
   "source": [
    "basis = DecisionTreeClassifier(criterion='entropy',max_depth=4,random_state=rs)\n",
    "clf = AdaBoostClassifier(basis, n_estimators=100,random_state=rs)\n",
    "clf.fit(X_pca, y)\n",
    "Z = clf.predict(np.array([xx1.ravel(), xx2.ravel()]).T)\n",
    "plot_decision_boundary(Z, 'Bagging classifier')"
   ]
  },
  {
   "cell_type": "code",
   "execution_count": 14,
   "metadata": {},
   "outputs": [
    {
     "name": "stdout",
     "output_type": "stream",
     "text": [
      "mean train accuracy : 1.0\n",
      "mean test accuracy  : 0.932\n"
     ]
    }
   ],
   "source": [
    "train_acc, test_acc = cross_val(clf)\n",
    "print(f'mean train accuracy : {train_acc:.03}')\n",
    "print(f'mean test accuracy  : {test_acc:.03}')"
   ]
  },
  {
   "cell_type": "markdown",
   "metadata": {},
   "source": [
    "### 課題1(a),(b) Gradient Boosting"
   ]
  },
  {
   "cell_type": "code",
   "execution_count": 15,
   "metadata": {},
   "outputs": [
    {
     "data": {
      "image/png": "[encoded data removed]",
      "text/plain": [
       "<Figure size 432x288 with 1 Axes>"
      ]
     },
     "metadata": {
      "needs_background": "light"
     },
     "output_type": "display_data"
    }
   ],
   "source": [
    "clf = GradientBoostingClassifier(n_estimators=100,random_state=rs)\n",
    "clf.fit(X_pca, y)\n",
    "Z = clf.predict(np.array([xx1.ravel(), xx2.ravel()]).T)\n",
    "plot_decision_boundary(Z, 'Bagging classifier')"
   ]
  },
  {
   "cell_type": "code",
   "execution_count": 16,
   "metadata": {},
   "outputs": [
    {
     "name": "stdout",
     "output_type": "stream",
     "text": [
      "mean train accuracy : 1.0\n",
      "mean test accuracy  : 0.921\n"
     ]
    }
   ],
   "source": [
    "train_acc, test_acc = cross_val(clf)\n",
    "print(f'mean train accuracy : {train_acc:.03}')\n",
    "print(f'mean test accuracy  : {test_acc:.03}')"
   ]
  },
  {
   "cell_type": "markdown",
   "metadata": {},
   "source": [
    "### 課題1(c) RandomForestを使用して特徴量をランキング\n",
    "- ヒント：ソート結果のインデックスはnp.argsort()を使用すると良い"
   ]
  },
  {
   "cell_type": "code",
   "execution_count": 17,
   "metadata": {},
   "outputs": [],
   "source": [
    "import pandas as pd\n",
    "feature_name = [\"Alcohol\", \"Malic acid\", \"Ash\", \"Alcalinity of ash\", \"Magnesium\", \"Total phenols\",\n",
    "                \"Flavanoids\", \"Nonflavanoid phenols\", \"Proanthocyanins\", \"Color intensity\", \"Hue\", \"OD280/OD315 of diluted wines\", \"Proline\"]\n",
    "\n",
    "clf = RandomForestClassifier(n_estimators=100,random_state=rs)\n",
    "clf.fit(X, y)\n",
    "feature_importance = clf.feature_importances_\n",
    "df = pd.DataFrame([feature_importance], columns=feature_name)"
   ]
  },
  {
   "cell_type": "code",
   "execution_count": 18,
   "metadata": {},
   "outputs": [],
   "source": [
    "df = df.sort_values(0,axis = 1, ascending=False)"
   ]
  },
  {
   "cell_type": "code",
   "execution_count": 19,
   "metadata": {},
   "outputs": [
    {
     "data": {
      "text/html": [
       "<div>\n",
       "<style scoped>\n",
       "    .dataframe tbody tr th:only-of-type {\n",
       "        vertical-align: middle;\n",
       "    }\n",
       "\n",
       "    .dataframe tbody tr th {\n",
       "        vertical-align: top;\n",
       "    }\n",
       "\n",
       "    .dataframe thead th {\n",
       "        text-align: right;\n",
       "    }\n",
       "</style>\n",
       "<table border=\"1\" class=\"dataframe\">\n",
       "  <thead>\n",
       "    <tr style=\"text-align: right;\">\n",
       "      <th></th>\n",
       "      <th>Flavanoids</th>\n",
       "      <th>Color intensity</th>\n",
       "      <th>Alcohol</th>\n",
       "      <th>Proline</th>\n",
       "      <th>OD280/OD315 of diluted wines</th>\n",
       "      <th>Hue</th>\n",
       "      <th>Total phenols</th>\n",
       "      <th>Malic acid</th>\n",
       "      <th>Alcalinity of ash</th>\n",
       "      <th>Magnesium</th>\n",
       "      <th>Proanthocyanins</th>\n",
       "      <th>Ash</th>\n",
       "      <th>Nonflavanoid phenols</th>\n",
       "    </tr>\n",
       "  </thead>\n",
       "  <tbody>\n",
       "    <tr>\n",
       "      <th>0</th>\n",
       "      <td>0.194481</td>\n",
       "      <td>0.172961</td>\n",
       "      <td>0.141614</td>\n",
       "      <td>0.137045</td>\n",
       "      <td>0.111831</td>\n",
       "      <td>0.076939</td>\n",
       "      <td>0.03508</td>\n",
       "      <td>0.03306</td>\n",
       "      <td>0.029885</td>\n",
       "      <td>0.025873</td>\n",
       "      <td>0.018387</td>\n",
       "      <td>0.015534</td>\n",
       "      <td>0.00731</td>\n",
       "    </tr>\n",
       "  </tbody>\n",
       "</table>\n",
       "</div>"
      ],
      "text/plain": [
       "   Flavanoids  Color intensity   Alcohol   Proline  \\\n",
       "0    0.194481         0.172961  0.141614  0.137045   \n",
       "\n",
       "   OD280/OD315 of diluted wines       Hue  Total phenols  Malic acid  \\\n",
       "0                      0.111831  0.076939        0.03508     0.03306   \n",
       "\n",
       "   Alcalinity of ash  Magnesium  Proanthocyanins       Ash  \\\n",
       "0           0.029885   0.025873         0.018387  0.015534   \n",
       "\n",
       "   Nonflavanoid phenols  \n",
       "0               0.00731  "
      ]
     },
     "execution_count": 19,
     "metadata": {},
     "output_type": "execute_result"
    }
   ],
   "source": [
    "df"
   ]
  },
  {
   "cell_type": "code",
   "execution_count": 20,
   "metadata": {},
   "outputs": [
    {
     "data": {
      "text/plain": [
       "<BarContainer object of 13 artists>"
      ]
     },
     "execution_count": 20,
     "metadata": {},
     "output_type": "execute_result"
    },
    {
     "data": {
      "image/png": "[encoded data removed]",
      "text/plain": [
       "<Figure size 2160x576 with 1 Axes>"
      ]
     },
     "metadata": {
      "needs_background": "light"
     },
     "output_type": "display_data"
    }
   ],
   "source": [
    "plt.figure(figsize = (30,8))\n",
    "plt.bar(df.columns, df.iloc[0])"
   ]
  },
  {
   "cell_type": "markdown",
   "metadata": {},
   "source": [
    "上のグラフはランダムフォレストのモデルにおける重要特徴量のランキングである．  \n",
    "random forestによる分類モデルにおいて重要な特徴量はフラボノイド(ポリフェノール?)量，色彩強度，アルコール濃度，プロリンの値が特に重要であるということがわかる．  "
   ]
  },
  {
   "cell_type": "markdown",
   "metadata": {},
   "source": [
    "### 課題9-2 アンサンブルの数やきの最大深さを変更して影響を考察"
   ]
  },
  {
   "cell_type": "markdown",
   "metadata": {},
   "source": [
    "以下Baggingにおいてアンサンブルの数と最大深さを変化させていった際にどのようにテスト分類性能が変化するのかを検証する"
   ]
  },
  {
   "cell_type": "code",
   "execution_count": 21,
   "metadata": {},
   "outputs": [
    {
     "data": {
      "application/vnd.jupyter.widget-view+json": {
       "model_id": "cd6f02d988a341229eabedc0f41e9420",
       "version_major": 2,
       "version_minor": 0
      },
      "text/plain": [
       "HBox(children=(HTML(value=''), FloatProgress(value=0.0, max=7.0), HTML(value='')))"
      ]
     },
     "metadata": {},
     "output_type": "display_data"
    },
    {
     "data": {
      "application/vnd.jupyter.widget-view+json": {
       "model_id": "",
       "version_major": 2,
       "version_minor": 0
      },
      "text/plain": [
       "HBox(children=(HTML(value=''), FloatProgress(value=0.0, max=7.0), HTML(value='')))"
      ]
     },
     "metadata": {},
     "output_type": "display_data"
    },
    {
     "data": {
      "application/vnd.jupyter.widget-view+json": {
       "model_id": "",
       "version_major": 2,
       "version_minor": 0
      },
      "text/plain": [
       "HBox(children=(HTML(value=''), FloatProgress(value=0.0, max=7.0), HTML(value='')))"
      ]
     },
     "metadata": {},
     "output_type": "display_data"
    },
    {
     "data": {
      "application/vnd.jupyter.widget-view+json": {
       "model_id": "",
       "version_major": 2,
       "version_minor": 0
      },
      "text/plain": [
       "HBox(children=(HTML(value=''), FloatProgress(value=0.0, max=7.0), HTML(value='')))"
      ]
     },
     "metadata": {},
     "output_type": "display_data"
    },
    {
     "data": {
      "application/vnd.jupyter.widget-view+json": {
       "model_id": "",
       "version_major": 2,
       "version_minor": 0
      },
      "text/plain": [
       "HBox(children=(HTML(value=''), FloatProgress(value=0.0, max=7.0), HTML(value='')))"
      ]
     },
     "metadata": {},
     "output_type": "display_data"
    },
    {
     "data": {
      "application/vnd.jupyter.widget-view+json": {
       "model_id": "",
       "version_major": 2,
       "version_minor": 0
      },
      "text/plain": [
       "HBox(children=(HTML(value=''), FloatProgress(value=0.0, max=7.0), HTML(value='')))"
      ]
     },
     "metadata": {},
     "output_type": "display_data"
    },
    {
     "data": {
      "application/vnd.jupyter.widget-view+json": {
       "model_id": "",
       "version_major": 2,
       "version_minor": 0
      },
      "text/plain": [
       "HBox(children=(HTML(value=''), FloatProgress(value=0.0, max=7.0), HTML(value='')))"
      ]
     },
     "metadata": {},
     "output_type": "display_data"
    },
    {
     "data": {
      "application/vnd.jupyter.widget-view+json": {
       "model_id": "",
       "version_major": 2,
       "version_minor": 0
      },
      "text/plain": [
       "HBox(children=(HTML(value=''), FloatProgress(value=0.0, max=7.0), HTML(value='')))"
      ]
     },
     "metadata": {},
     "output_type": "display_data"
    },
    {
     "name": "stdout",
     "output_type": "stream",
     "text": [
      "\n"
     ]
    }
   ],
   "source": [
    "from tqdm.notebook import tqdm\n",
    "num_max_depth = [1,2,3,4,5,10,50]\n",
    "num_ensamble = [1,2,3,4,5,10,50]\n",
    "\n",
    "Z_train = np.zeros((len(num_max_depth), len(num_ensamble)))\n",
    "Z_test = np.zeros((len(num_max_depth), len(num_ensamble)))\n",
    "\n",
    "\n",
    "for i,d in enumerate(tqdm(num_max_depth)):\n",
    "    for j,n in enumerate(tqdm(num_ensamble,leave = False)):\n",
    "        basis = DecisionTreeClassifier(criterion='entropy',max_depth=d,random_state=rs)\n",
    "        clf = BaggingClassifier(basis, n_estimators=n,random_state=rs)\n",
    "        train_acc, test_acc = cross_val(clf)\n",
    "        Z_train[i][j] = train_acc\n",
    "        Z_test[i][j] = test_acc"
   ]
  },
  {
   "cell_type": "code",
   "execution_count": 22,
   "metadata": {},
   "outputs": [
    {
     "data": {
      "text/plain": [
       "[1, 2, 3, 4, 5, 10, 50]"
      ]
     },
     "execution_count": 22,
     "metadata": {},
     "output_type": "execute_result"
    }
   ],
   "source": [
    "num_ensamble"
   ]
  },
  {
   "cell_type": "code",
   "execution_count": 23,
   "metadata": {},
   "outputs": [
    {
     "name": "stderr",
     "output_type": "stream",
     "text": [
      "<ipython-input-23-364ef05b98cf>:4: UserWarning: FixedFormatter should only be used together with FixedLocator\n",
      "  ax.set_xticklabels([1] + num_ensamble)\n",
      "<ipython-input-23-364ef05b98cf>:5: UserWarning: FixedFormatter should only be used together with FixedLocator\n",
      "  ax.set_yticklabels([1] + num_ensamble)\n"
     ]
    },
    {
     "data": {
      "text/plain": [
       "<matplotlib.colorbar.Colorbar at 0x7fb3800cc160>"
      ]
     },
     "execution_count": 23,
     "metadata": {},
     "output_type": "execute_result"
    },
    {
     "data": {
      "image/png": "[encoded data removed]",
      "text/plain": [
       "<Figure size 432x288 with 2 Axes>"
      ]
     },
     "metadata": {
      "needs_background": "light"
     },
     "output_type": "display_data"
    }
   ],
   "source": [
    "fig,ax = plt.subplots()\n",
    "ax.set_title(\"train acc heat map\", fontsize=20)\n",
    "ax.set_xlabel([0,1])\n",
    "ax.set_xticklabels([1] + num_ensamble)\n",
    "ax.set_yticklabels([1] + num_ensamble)\n",
    "ax.set_xlabel(\"num estimator\", fontsize = 20)\n",
    "ax.set_ylabel(\"max depth\", fontsize = 20)\n",
    "im = ax.imshow(Z_train)\n",
    "fig.colorbar(im)"
   ]
  },
  {
   "cell_type": "code",
   "execution_count": 24,
   "metadata": {},
   "outputs": [
    {
     "name": "stdout",
     "output_type": "stream",
     "text": [
      "training score\n",
      "0.678 0.727 0.73  0.736 0.736 0.795 0.948 \n",
      "0.948 0.961 0.965 0.963 0.961 0.963 0.963 \n",
      "0.964 0.972 0.969 0.971 0.968 0.975 0.976 \n",
      "0.971 0.975 0.979 0.983 0.982 0.993 0.994 \n",
      "0.972 0.978 0.982 0.985 0.987 0.996 0.996 \n",
      "0.972 0.978 0.982 0.985 0.992 0.996 1.0   \n",
      "0.972 0.978 0.982 0.985 0.992 0.996 1.0   \n"
     ]
    }
   ],
   "source": [
    "print(\"training score\")\n",
    "for i in range(len(Z_train)):\n",
    "    for j in range(len(Z_train)):\n",
    "        print(f\"{Z_train[i][j]:<5.03}\", end=' ')\n",
    "    print()"
   ]
  },
  {
   "cell_type": "code",
   "execution_count": 25,
   "metadata": {},
   "outputs": [
    {
     "name": "stderr",
     "output_type": "stream",
     "text": [
      "<ipython-input-25-4fd2420536b5>:4: UserWarning: FixedFormatter should only be used together with FixedLocator\n",
      "  ax.set_xticklabels([1] + num_ensamble)\n",
      "<ipython-input-25-4fd2420536b5>:5: UserWarning: FixedFormatter should only be used together with FixedLocator\n",
      "  ax.set_yticklabels([1] + num_ensamble)\n"
     ]
    },
    {
     "data": {
      "text/plain": [
       "<matplotlib.colorbar.Colorbar at 0x7fb3c8d9e700>"
      ]
     },
     "execution_count": 25,
     "metadata": {},
     "output_type": "execute_result"
    },
    {
     "data": {
      "image/png": "[encoded data removed]",
      "text/plain": [
       "<Figure size 432x288 with 2 Axes>"
      ]
     },
     "metadata": {
      "needs_background": "light"
     },
     "output_type": "display_data"
    }
   ],
   "source": [
    "fig,ax = plt.subplots()\n",
    "ax.set_title(\"test acc heat map\",fontsize =20)\n",
    "ax.set_xlabel([0,1])\n",
    "ax.set_xticklabels([1] + num_ensamble)\n",
    "ax.set_yticklabels([1] + num_ensamble)\n",
    "ax.set_xlabel(\"num estimator\", fontsize = 20)\n",
    "ax.set_ylabel(\"max depth\", fontsize = 20)\n",
    "im = ax.imshow(Z_test)\n",
    "fig.colorbar(im)"
   ]
  },
  {
   "cell_type": "code",
   "execution_count": 26,
   "metadata": {},
   "outputs": [
    {
     "name": "stdout",
     "output_type": "stream",
     "text": [
      "test score\n",
      "0.674 0.714 0.726 0.731 0.731 0.776 0.927 \n",
      "0.933 0.955 0.95  0.944 0.95  0.955 0.955 \n",
      "0.961 0.966 0.966 0.961 0.961 0.966 0.966 \n",
      "0.955 0.961 0.961 0.955 0.955 0.949 0.949 \n",
      "0.949 0.955 0.955 0.949 0.955 0.949 0.944 \n",
      "0.949 0.955 0.955 0.949 0.955 0.949 0.944 \n",
      "0.949 0.955 0.955 0.949 0.955 0.949 0.944 \n"
     ]
    }
   ],
   "source": [
    "print(\"test score\")\n",
    "for i in range(len(Z_train)):\n",
    "    for j in range(len(Z_train)):\n",
    "        print(f\"{Z_test[i][j]:<5.03}\", end=' ')\n",
    "    print()"
   ]
  },
  {
   "cell_type": "markdown",
   "metadata": {},
   "source": [
    "計算結果より訓練性能は決定木の深さが深くなればなるほど，学習器の多さが多くなればなるほど性能が向上していることが読み取れる．  \n",
    "一方でテスト性能について見てみると決定木の最大深さが3,学習木の個数が10から50くらいの時に性能が最も良くなっている．  \n",
    "このことより，アンサンブル学習においても元となる弱学習器の表現力が高すぎると過学習してしまうことがわかる．  \n",
    "上の実験の傾向では，弱学習器の最大深さが3の時は50個のアンサンブルをしても過学習が起こらなかったため，基底となる学習木の性能は弱く，アンサンブルする学習木の数はある程度大きい値でも過学習が起きないということが示唆される．  "
   ]
  },
  {
   "cell_type": "markdown",
   "metadata": {},
   "source": [
    "### その他工夫点"
   ]
  },
  {
   "cell_type": "markdown",
   "metadata": {},
   "source": [
    "上ではrandom forestでの重要特徴量をみた．  \n",
    "本実験では同じく，特徴量の重要度を計算するアルゴリズムであるPermutation Feature Importanceを用いて上の結果と整合するのかを確認する"
   ]
  },
  {
   "cell_type": "markdown",
   "metadata": {},
   "source": [
    "PFIはsklearnに実装されているのでそれを用いることにする(https://scikit-learn.org/stable/modules/generated/sklearn.inspection.permutation_importance.html)"
   ]
  },
  {
   "cell_type": "code",
   "execution_count": 27,
   "metadata": {},
   "outputs": [],
   "source": [
    "from sklearn.inspection import permutation_importance"
   ]
  },
  {
   "cell_type": "code",
   "execution_count": 28,
   "metadata": {},
   "outputs": [],
   "source": [
    "clf = RandomForestClassifier(n_estimators=100,random_state=rs)\n",
    "clf.fit(X, y)\n",
    "pfi = permutation_importance(estimator = clf, X=X, y=y,random_state = rs, n_repeats=10)"
   ]
  },
  {
   "cell_type": "code",
   "execution_count": 30,
   "metadata": {},
   "outputs": [],
   "source": [
    "df_pfi = pd.DataFrame(\n",
    "    data = {\"feature name\" : feature_name, \"importance\" : pfi[\"importances_mean\"]}\n",
    ").sort_values(\"importance\",ascending=False)"
   ]
  },
  {
   "cell_type": "code",
   "execution_count": 31,
   "metadata": {},
   "outputs": [
    {
     "data": {
      "text/html": [
       "<div>\n",
       "<style scoped>\n",
       "    .dataframe tbody tr th:only-of-type {\n",
       "        vertical-align: middle;\n",
       "    }\n",
       "\n",
       "    .dataframe tbody tr th {\n",
       "        vertical-align: top;\n",
       "    }\n",
       "\n",
       "    .dataframe thead th {\n",
       "        text-align: right;\n",
       "    }\n",
       "</style>\n",
       "<table border=\"1\" class=\"dataframe\">\n",
       "  <thead>\n",
       "    <tr style=\"text-align: right;\">\n",
       "      <th></th>\n",
       "      <th>feature name</th>\n",
       "      <th>importance</th>\n",
       "    </tr>\n",
       "  </thead>\n",
       "  <tbody>\n",
       "    <tr>\n",
       "      <th>12</th>\n",
       "      <td>Proline</td>\n",
       "      <td>0.048876</td>\n",
       "    </tr>\n",
       "    <tr>\n",
       "      <th>9</th>\n",
       "      <td>Color intensity</td>\n",
       "      <td>0.037079</td>\n",
       "    </tr>\n",
       "    <tr>\n",
       "      <th>6</th>\n",
       "      <td>Flavanoids</td>\n",
       "      <td>0.029213</td>\n",
       "    </tr>\n",
       "    <tr>\n",
       "      <th>0</th>\n",
       "      <td>Alcohol</td>\n",
       "      <td>0.006742</td>\n",
       "    </tr>\n",
       "    <tr>\n",
       "      <th>1</th>\n",
       "      <td>Malic acid</td>\n",
       "      <td>0.000000</td>\n",
       "    </tr>\n",
       "    <tr>\n",
       "      <th>2</th>\n",
       "      <td>Ash</td>\n",
       "      <td>0.000000</td>\n",
       "    </tr>\n",
       "    <tr>\n",
       "      <th>3</th>\n",
       "      <td>Alcalinity of ash</td>\n",
       "      <td>0.000000</td>\n",
       "    </tr>\n",
       "    <tr>\n",
       "      <th>4</th>\n",
       "      <td>Magnesium</td>\n",
       "      <td>0.000000</td>\n",
       "    </tr>\n",
       "    <tr>\n",
       "      <th>5</th>\n",
       "      <td>Total phenols</td>\n",
       "      <td>0.000000</td>\n",
       "    </tr>\n",
       "    <tr>\n",
       "      <th>7</th>\n",
       "      <td>Nonflavanoid phenols</td>\n",
       "      <td>0.000000</td>\n",
       "    </tr>\n",
       "    <tr>\n",
       "      <th>8</th>\n",
       "      <td>Proanthocyanins</td>\n",
       "      <td>0.000000</td>\n",
       "    </tr>\n",
       "    <tr>\n",
       "      <th>10</th>\n",
       "      <td>Hue</td>\n",
       "      <td>0.000000</td>\n",
       "    </tr>\n",
       "    <tr>\n",
       "      <th>11</th>\n",
       "      <td>OD280/OD315 of diluted wines</td>\n",
       "      <td>0.000000</td>\n",
       "    </tr>\n",
       "  </tbody>\n",
       "</table>\n",
       "</div>"
      ],
      "text/plain": [
       "                    feature name  importance\n",
       "12                       Proline    0.048876\n",
       "9                Color intensity    0.037079\n",
       "6                     Flavanoids    0.029213\n",
       "0                        Alcohol    0.006742\n",
       "1                     Malic acid    0.000000\n",
       "2                            Ash    0.000000\n",
       "3              Alcalinity of ash    0.000000\n",
       "4                      Magnesium    0.000000\n",
       "5                  Total phenols    0.000000\n",
       "7           Nonflavanoid phenols    0.000000\n",
       "8                Proanthocyanins    0.000000\n",
       "10                           Hue    0.000000\n",
       "11  OD280/OD315 of diluted wines    0.000000"
      ]
     },
     "execution_count": 31,
     "metadata": {},
     "output_type": "execute_result"
    }
   ],
   "source": [
    "df_pfi"
   ]
  },
  {
   "cell_type": "markdown",
   "metadata": {},
   "source": [
    "実験結果より詳細な順番は違うものの，プロリン，色彩強度，フラボノイド量，アルコール濃度というrandom forestでも上位4つに入っていた特徴量が重要という結果が得られた．  "
   ]
  },
  {
   "cell_type": "code",
   "execution_count": null,
   "metadata": {},
   "outputs": [],
   "source": []
  }
 ],
 "metadata": {
  "kernelspec": {
   "display_name": "Python 3",
   "language": "python",
   "name": "python3"
  },
  "language_info": {
   "codemirror_mode": {
    "name": "ipython",
    "version": 3
   },
   "file_extension": ".py",
   "mimetype": "text/x-python",
   "name": "python",
   "nbconvert_exporter": "python",
   "pygments_lexer": "ipython3",
   "version": "3.8.5"
  }
 },
 "nbformat": 4,
 "nbformat_minor": 4
}
