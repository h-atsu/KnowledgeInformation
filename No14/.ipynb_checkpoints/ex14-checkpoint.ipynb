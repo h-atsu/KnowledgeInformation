{
 "cells": [
  {
   "cell_type": "markdown",
   "metadata": {
    "id": "W-SIx-6cxumT"
   },
   "source": [
    "## 知識情報学第14回サンプルプログラム ex14.ipynb\n",
    "- Programmed by Ken-ichi Fukui\n",
    "- Last updated: 2022/01/25\n",
    "- Checked with Python 3.7.12, tensorflow 2.7\n",
    "- MIT Lisence\n",
    "\n",
    "## Kerasを用いたMINISTデータの識別\n",
    "- AutoEncoderによる事前学習+教師あり学習による識別器の学習\n",
    "- Keras: https://keras.io/ja/\n",
    "- Tensorflowのインストール: https://www.tensorflow.org/install/pip\n",
    "  - Windowsは別途，Microsoft Visual C++の再頒布可能パッケージのインストールが必要?"
   ]
  },
  {
   "cell_type": "code",
   "execution_count": 11,
   "metadata": {
    "id": "PYdkppokxumW"
   },
   "outputs": [],
   "source": [
    "%matplotlib inline\n",
    "from tensorflow.keras.datasets import mnist\n",
    "from tensorflow.keras import backend as K\n",
    "from tensorflow.keras import utils\n",
    "from tensorflow.keras.models import Sequential, Model\n",
    "from tensorflow.keras.layers import Activation, Dense, Dropout, Input\n",
    "from tensorflow.keras.optimizers import Adam\n",
    "import matplotlib.pyplot as plt\n",
    "import os, struct\n",
    "import numpy as np"
   ]
  },
  {
   "cell_type": "markdown",
   "metadata": {
    "id": "pfx_JvO0xumX"
   },
   "source": [
    "### MNISTデータの読み込み"
   ]
  },
  {
   "cell_type": "code",
   "execution_count": 12,
   "metadata": {
    "colab": {
     "base_uri": "https://localhost:8080/"
    },
    "id": "Ae0SJIQTDrrW",
    "outputId": "340c089c-a43f-4bb6-f29d-ac8a507da174"
   },
   "outputs": [
    {
     "name": "stdout",
     "output_type": "stream",
     "text": [
      "60000 train samples\n",
      "10000 test samples\n"
     ]
    },
    {
     "data": {
      "text/plain": [
       "(60000, 784, 1)"
      ]
     },
     "execution_count": 12,
     "metadata": {},
     "output_type": "execute_result"
    }
   ],
   "source": [
    "(X_train, y_train), (X_test, y_test) = mnist.load_data()\n",
    "\n",
    "# 2次元(28 x 28画素)から1次元（784画素）に変換\n",
    "X_train = X_train.reshape(X_train.shape[0], 28*28, 1)\n",
    "X_test = X_test.reshape(X_test.shape[0], 28*28, 1)\n",
    "\n",
    "print(X_train.shape[0], 'train samples')\n",
    "print(X_test.shape[0], 'test samples')\n",
    "X_train.shape"
   ]
  },
  {
   "cell_type": "code",
   "execution_count": 20,
   "metadata": {
    "colab": {
     "base_uri": "https://localhost:8080/"
    },
    "id": "tkuU_u4ZxumY",
    "outputId": "92095e57-4fb8-484f-bd72-e83560d246bf"
   },
   "outputs": [
    {
     "data": {
      "text/plain": [
       "(784, 10)"
      ]
     },
     "execution_count": 20,
     "metadata": {},
     "output_type": "execute_result"
    }
   ],
   "source": [
    "# 学習データとテストデータは最初のn_train_data, n_test_data個用いる\n",
    "n_training_data = 1000\n",
    "n_test_data = 1000\n",
    "\n",
    "X_trn = X_train[:n_training_data][:]\n",
    "y_trn = y_train[:n_training_data]\n",
    "X_tst = X_test[:n_test_data][:]\n",
    "y_tst = y_test[:n_test_data]\n",
    "\n",
    "# 値の範囲を[0,1]に変換 (Keras用)\n",
    "X_trn = X_trn.astype('float32')/255\n",
    "X_tst = X_tst.astype('float32')/255\n",
    "\n",
    "# One-hot encoderによりクラスラベルをバイナリに変換 (Keras用)\n",
    "# 例：1 -> [1,0,...,0], 2 -> [0,1,0,...]\n",
    "y_trn = utils.to_categorical(y_trn)\n",
    "y_tst = utils.to_categorical(y_tst)\n",
    "\n",
    "# 入力データの次元数(=784画素)を取得\n",
    "n_dim = X_trn.shape[1]\n",
    "\n",
    "# 出力クラス数(=10クラス)\n",
    "n_out = y_trn.shape[1]\n",
    "\n",
    "n_dim, n_out"
   ]
  },
  {
   "cell_type": "markdown",
   "metadata": {
    "id": "SNjGDlYzxumY"
   },
   "source": [
    "### 学習履歴をプロットする関数"
   ]
  },
  {
   "cell_type": "code",
   "execution_count": 21,
   "metadata": {
    "id": "wlG1XOt3xumZ"
   },
   "outputs": [],
   "source": [
    "# Accuracyの履歴のプロット\n",
    "def plot_history_acc(rec):\n",
    "    plt.plot(rec.history['accuracy'],\"o-\",label=\"train\") \n",
    "    plt.plot(rec.history['val_accuracy'],\"o-\",label=\"test\") \n",
    "    plt.title('accuracy history')\n",
    "    plt.xlabel('epochs')\n",
    "    plt.ylabel('accuracy')\n",
    "    plt.legend(loc=\"lower right\")\n",
    "    plt.show()\n",
    "    \n",
    "# 損失関数値の履歴のプロット\n",
    "def plot_history_loss(rec):\n",
    "    plt.plot(rec.history['loss'],\"o-\",label=\"train\",)\n",
    "    plt.plot(rec.history['val_loss'],\"o-\",label=\"test\")\n",
    "    plt.title('loss history')\n",
    "    plt.xlabel('epochs')\n",
    "    plt.ylabel('loss')\n",
    "    plt.legend(loc='upper right')\n",
    "    plt.show()"
   ]
  },
  {
   "cell_type": "markdown",
   "metadata": {
    "id": "sfsTl1sUxumZ"
   },
   "source": [
    "### AutoEncoderの構築\n",
    "- ReLU（活性化関数）: f(x) = max(0,x)\n",
    "\n",
    "### 課題1(a). 中間層の数を増やしてDNNを実装"
   ]
  },
  {
   "cell_type": "code",
   "execution_count": 33,
   "metadata": {},
   "outputs": [],
   "source": [
    "ae = Sequential()\n",
    "ae.add(Dense(500, input_dim = n_dim, activation='relu', name = 'encoder'))\n",
    "ae.add(Dropout(0.5))\n",
    "ae.add(Dense(n_dim, activation='relu'))\n",
    "\n",
    "# 損失関数にMean Squared Error（平均二乗誤差），　パラメータの最適化にAdamを設定\n",
    "# Adam(Adaptive moment estimation)は確率的最急降下法の一種． \n",
    "ae.compile(loss = 'mse', optimizer ='adam')\n",
    "\n",
    "# Kerasもfit()で学習を行う． ただし戻り値として学習履歴を返す．\n",
    "records_ae = ae.fit(X_trn, X_trn,\n",
    "                    epochs=250,\n",
    "                    batch_size=200,\n",
    "                    shuffle=True,\n",
    "                    verbose=0,\n",
    "                    validation_data=(X_tst, X_tst))"
   ]
  },
  {
   "cell_type": "code",
   "execution_count": 34,
   "metadata": {
    "colab": {
     "base_uri": "https://localhost:8080/",
     "height": 550
    },
    "id": "zA3bRunpxuma",
    "outputId": "5858cc55-c741-4308-d42a-fc6b9cbd9681"
   },
   "outputs": [
    {
     "name": "stdout",
     "output_type": "stream",
     "text": [
      "Model: \"sequential_2\"\n",
      "_________________________________________________________________\n",
      " Layer (type)                Output Shape              Param #   \n",
      "=================================================================\n",
      " encoder (Dense)             (None, 500)               392500    \n",
      "                                                                 \n",
      " dropout_2 (Dropout)         (None, 500)               0         \n",
      "                                                                 \n",
      " dense_2 (Dense)             (None, 784)               392784    \n",
      "                                                                 \n",
      "=================================================================\n",
      "Total params: 785,284\n",
      "Trainable params: 785,284\n",
      "Non-trainable params: 0\n",
      "_________________________________________________________________\n"
     ]
    },
    {
     "data": {
      "image/png": "[encoded data removed]",
      "text/plain": [
       "<Figure size 432x288 with 1 Axes>"
      ]
     },
     "metadata": {
      "needs_background": "light"
     },
     "output_type": "display_data"
    }
   ],
   "source": [
    "# 学習済み重みの保存\n",
    "ae.save_weights('autoencoder.h5')\n",
    "# ネットワークの概要\n",
    "ae.summary()\n",
    "# 損失関数値の履歴のプロット\n",
    "plot_history_loss(records_ae)"
   ]
  },
  {
   "cell_type": "markdown",
   "metadata": {
    "id": "PauDYsJuxumb"
   },
   "source": [
    "### AutoEncoderによる再構成画像の表示"
   ]
  },
  {
   "cell_type": "code",
   "execution_count": 35,
   "metadata": {
    "colab": {
     "base_uri": "https://localhost:8080/",
     "height": 248
    },
    "id": "t-hS2HHgxumb",
    "outputId": "756bb9d6-e067-4ed2-f0ca-a2efdfa6712f"
   },
   "outputs": [
    {
     "data": {
      "image/png": "[encoded data removed]",
      "text/plain": [
       "<Figure size 1440x288 with 20 Axes>"
      ]
     },
     "metadata": {
      "needs_background": "light"
     },
     "output_type": "display_data"
    }
   ],
   "source": [
    "# テスト画像をAutoEncoderで変換\n",
    "decoded_imgs = ae.predict(X_tst)\n",
    "\n",
    "n = 10 #表示枚数\n",
    "plt.figure(figsize=(20, 4))\n",
    "for i in range(n):\n",
    "    # 元画像の表示\n",
    "    ax = plt.subplot(2, n, i+1)\n",
    "    plt.imshow(X_tst[i].reshape(28, 28))\n",
    "    plt.gray()\n",
    "    ax.get_xaxis().set_visible(False)\n",
    "    ax.get_yaxis().set_visible(False)\n",
    "\n",
    "    # 再構成画像の表示\n",
    "    ax = plt.subplot(2, n, i+1+n)\n",
    "    plt.imshow(decoded_imgs[i].reshape(28, 28))\n",
    "    plt.gray()\n",
    "    ax.get_xaxis().set_visible(False)\n",
    "    ax.get_yaxis().set_visible(False)\n",
    "plt.show()"
   ]
  },
  {
   "cell_type": "markdown",
   "metadata": {},
   "source": [
    "Auto Encoderを用いたMLPの学習で隠れ層を1層から5層へ変化させた時のmnistの"
   ]
  },
  {
   "cell_type": "markdown",
   "metadata": {
    "id": "nWksB565xumb"
   },
   "source": [
    "### AutoEncoderの学習結果を用いて深層ニューラルネットを構成（DNN）"
   ]
  },
  {
   "cell_type": "code",
   "execution_count": 31,
   "metadata": {
    "colab": {
     "base_uri": "https://localhost:8080/"
    },
    "id": "f6qSQhl2xumc",
    "outputId": "84586210-c5cf-4380-fd29-81232bc4a874"
   },
   "outputs": [],
   "source": [
    "# AutoEncoderの学習結果（Encoderの学習済み重み）を取得\n",
    "h = ae.get_layer('encoder').output\n",
    "# 最終段にクラス数の分の出力を持つsoftmax関数を追加\n",
    "y = Dense(n_out, activation='softmax', name='predictions')(h)\n",
    "\n",
    "# 入力から出力層までを繋ぐNNモデルを生成\n",
    "dnn = Model(inputs=ae.inputs, outputs=y)\n",
    "\n",
    "# 損失関数は交差エントロピーを使用． 最近は平均二乗誤差ではなく交差エントロピーが用いられている．\n",
    "dnn.compile(optimizer='adam', loss='categorical_crossentropy',metrics=['accuracy'])\n",
    "\n",
    "records_dnn = dnn.fit(X_trn, y_trn,\n",
    "                epochs=50,\n",
    "                batch_size=200,\n",
    "                shuffle=True,\n",
    "                verbose=0,\n",
    "                validation_data=(X_tst, y_tst))"
   ]
  },
  {
   "cell_type": "code",
   "execution_count": 32,
   "metadata": {
    "colab": {
     "base_uri": "https://localhost:8080/",
     "height": 828
    },
    "id": "zozN-USHxumc",
    "outputId": "7a2b550c-8331-49ad-9d83-f1b51e1d4b5a"
   },
   "outputs": [
    {
     "name": "stdout",
     "output_type": "stream",
     "text": [
      "Model: \"model_1\"\n",
      "_________________________________________________________________\n",
      " Layer (type)                Output Shape              Param #   \n",
      "=================================================================\n",
      " encoder_input (InputLayer)  [(None, 784)]             0         \n",
      "                                                                 \n",
      " encoder (Dense)             (None, 500)               392500    \n",
      "                                                                 \n",
      " predictions (Dense)         (None, 10)                5010      \n",
      "                                                                 \n",
      "=================================================================\n",
      "Total params: 397,510\n",
      "Trainable params: 397,510\n",
      "Non-trainable params: 0\n",
      "_________________________________________________________________\n"
     ]
    },
    {
     "data": {
      "image/png": "[encoded data removed]",
      "text/plain": [
       "<Figure size 432x288 with 1 Axes>"
      ]
     },
     "metadata": {
      "needs_background": "light"
     },
     "output_type": "display_data"
    },
    {
     "data": {
      "image/png": "[encoded data removed]",
      "text/plain": [
       "<Figure size 432x288 with 1 Axes>"
      ]
     },
     "metadata": {
      "needs_background": "light"
     },
     "output_type": "display_data"
    }
   ],
   "source": [
    "# ネットワークの概要\n",
    "dnn.summary()\n",
    "# 学習履歴のプロット\n",
    "plot_history_acc(records_dnn)\n",
    "plot_history_loss(records_dnn)"
   ]
  },
  {
   "cell_type": "markdown",
   "metadata": {
    "id": "x8nNRT86xumd"
   },
   "source": [
    "### 課題1(b) AutoEncoderを使わない中間層1層の多層パーセプトロン（MLP）を実装"
   ]
  },
  {
   "cell_type": "code",
   "execution_count": null,
   "metadata": {
    "id": "XJo9J79AT3dp"
   },
   "outputs": [],
   "source": []
  },
  {
   "cell_type": "markdown",
   "metadata": {
    "id": "GuTP9EIyxume"
   },
   "source": [
    "### 課題1(c) CNNを実装\n",
    "- 参考：VGG-likeなconvnet\n",
    "- https://keras.io/ja/getting-started/sequential-model-guide/"
   ]
  },
  {
   "cell_type": "code",
   "execution_count": 10,
   "metadata": {
    "id": "lWaI9Dr5xumf"
   },
   "outputs": [],
   "source": [
    "from keras.layers import Conv2D, MaxPooling2D, Flatten\n",
    "\n",
    "# 2次元の画像として扱うため28x28x1へ変換\n",
    "X_trn_cnn = X_trn.reshape(X_trn.shape[0], 28, 28, 1)\n",
    "X_tst_cnn = X_tst.reshape(X_tst.shape[0], 28, 28, 1)"
   ]
  }
 ],
 "metadata": {
  "colab": {
   "name": "ex14.ipynb",
   "provenance": []
  },
  "kernelspec": {
   "display_name": "Python 3",
   "language": "python",
   "name": "python3"
  },
  "language_info": {
   "codemirror_mode": {
    "name": "ipython",
    "version": 3
   },
   "file_extension": ".py",
   "mimetype": "text/x-python",
   "name": "python",
   "nbconvert_exporter": "python",
   "pygments_lexer": "ipython3",
   "version": "3.8.5"
  }
 },
 "nbformat": 4,
 "nbformat_minor": 4
}
